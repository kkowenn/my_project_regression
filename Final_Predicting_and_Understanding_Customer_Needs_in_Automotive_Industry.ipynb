{
  "nbformat": 4,
  "nbformat_minor": 0,
  "metadata": {
    "colab": {
      "provenance": []
    },
    "kernelspec": {
      "name": "python3",
      "display_name": "Python 3"
    },
    "language_info": {
      "name": "python"
    }
  },
  "cells": [
    {
      "cell_type": "markdown",
      "source": [
        "# Predicting and Understanding Customer Needs in Automotive Industry"
      ],
      "metadata": {
        "id": "LCjpSpmrm0yH"
      }
    },
    {
      "cell_type": "markdown",
      "source": [
        "# progress 1"
      ],
      "metadata": {
        "id": "yiayIHMOnqiN"
      }
    },
    {
      "cell_type": "markdown",
      "source": [
        "## about data"
      ],
      "metadata": {
        "id": "gLJWqmSb1r5L"
      }
    },
    {
      "cell_type": "markdown",
      "source": [
        "**Introduction:**\n",
        "\n",
        "In this project, we aim to address the challenge of predicting and understanding customer needs and preferences in the automotive industry. Specifically, the project focuses on forecasting overall customer ratings for car models based on various features and attributes. The primary objectives are to identify the key factors influencing customer satisfaction, uncover trends in customer reviews, and provide insights for car manufacturers and customers."
      ],
      "metadata": {
        "id": "TrihDIsNm3uH"
      }
    },
    {
      "cell_type": "code",
      "execution_count": 4,
      "metadata": {
        "colab": {
          "base_uri": "https://localhost:8080/",
          "height": 69
        },
        "id": "n1sLRs4HmMkC",
        "outputId": "adc02d1a-26d7-49a9-afeb-e77786860cb1"
      },
      "outputs": [
        {
          "output_type": "display_data",
          "data": {
            "text/plain": [
              "<IPython.core.display.HTML object>"
            ],
            "text/html": [
              "\n",
              "     <input type=\"file\" id=\"files-27418db3-f17a-485a-9b31-e27f49fce939\" name=\"files[]\" multiple disabled\n",
              "        style=\"border:none\" />\n",
              "     <output id=\"result-27418db3-f17a-485a-9b31-e27f49fce939\">\n",
              "      Upload widget is only available when the cell has been executed in the\n",
              "      current browser session. Please rerun this cell to enable.\n",
              "      </output>\n",
              "      <script>// Copyright 2017 Google LLC\n",
              "//\n",
              "// Licensed under the Apache License, Version 2.0 (the \"License\");\n",
              "// you may not use this file except in compliance with the License.\n",
              "// You may obtain a copy of the License at\n",
              "//\n",
              "//      http://www.apache.org/licenses/LICENSE-2.0\n",
              "//\n",
              "// Unless required by applicable law or agreed to in writing, software\n",
              "// distributed under the License is distributed on an \"AS IS\" BASIS,\n",
              "// WITHOUT WARRANTIES OR CONDITIONS OF ANY KIND, either express or implied.\n",
              "// See the License for the specific language governing permissions and\n",
              "// limitations under the License.\n",
              "\n",
              "/**\n",
              " * @fileoverview Helpers for google.colab Python module.\n",
              " */\n",
              "(function(scope) {\n",
              "function span(text, styleAttributes = {}) {\n",
              "  const element = document.createElement('span');\n",
              "  element.textContent = text;\n",
              "  for (const key of Object.keys(styleAttributes)) {\n",
              "    element.style[key] = styleAttributes[key];\n",
              "  }\n",
              "  return element;\n",
              "}\n",
              "\n",
              "// Max number of bytes which will be uploaded at a time.\n",
              "const MAX_PAYLOAD_SIZE = 100 * 1024;\n",
              "\n",
              "function _uploadFiles(inputId, outputId) {\n",
              "  const steps = uploadFilesStep(inputId, outputId);\n",
              "  const outputElement = document.getElementById(outputId);\n",
              "  // Cache steps on the outputElement to make it available for the next call\n",
              "  // to uploadFilesContinue from Python.\n",
              "  outputElement.steps = steps;\n",
              "\n",
              "  return _uploadFilesContinue(outputId);\n",
              "}\n",
              "\n",
              "// This is roughly an async generator (not supported in the browser yet),\n",
              "// where there are multiple asynchronous steps and the Python side is going\n",
              "// to poll for completion of each step.\n",
              "// This uses a Promise to block the python side on completion of each step,\n",
              "// then passes the result of the previous step as the input to the next step.\n",
              "function _uploadFilesContinue(outputId) {\n",
              "  const outputElement = document.getElementById(outputId);\n",
              "  const steps = outputElement.steps;\n",
              "\n",
              "  const next = steps.next(outputElement.lastPromiseValue);\n",
              "  return Promise.resolve(next.value.promise).then((value) => {\n",
              "    // Cache the last promise value to make it available to the next\n",
              "    // step of the generator.\n",
              "    outputElement.lastPromiseValue = value;\n",
              "    return next.value.response;\n",
              "  });\n",
              "}\n",
              "\n",
              "/**\n",
              " * Generator function which is called between each async step of the upload\n",
              " * process.\n",
              " * @param {string} inputId Element ID of the input file picker element.\n",
              " * @param {string} outputId Element ID of the output display.\n",
              " * @return {!Iterable<!Object>} Iterable of next steps.\n",
              " */\n",
              "function* uploadFilesStep(inputId, outputId) {\n",
              "  const inputElement = document.getElementById(inputId);\n",
              "  inputElement.disabled = false;\n",
              "\n",
              "  const outputElement = document.getElementById(outputId);\n",
              "  outputElement.innerHTML = '';\n",
              "\n",
              "  const pickedPromise = new Promise((resolve) => {\n",
              "    inputElement.addEventListener('change', (e) => {\n",
              "      resolve(e.target.files);\n",
              "    });\n",
              "  });\n",
              "\n",
              "  const cancel = document.createElement('button');\n",
              "  inputElement.parentElement.appendChild(cancel);\n",
              "  cancel.textContent = 'Cancel upload';\n",
              "  const cancelPromise = new Promise((resolve) => {\n",
              "    cancel.onclick = () => {\n",
              "      resolve(null);\n",
              "    };\n",
              "  });\n",
              "\n",
              "  // Wait for the user to pick the files.\n",
              "  const files = yield {\n",
              "    promise: Promise.race([pickedPromise, cancelPromise]),\n",
              "    response: {\n",
              "      action: 'starting',\n",
              "    }\n",
              "  };\n",
              "\n",
              "  cancel.remove();\n",
              "\n",
              "  // Disable the input element since further picks are not allowed.\n",
              "  inputElement.disabled = true;\n",
              "\n",
              "  if (!files) {\n",
              "    return {\n",
              "      response: {\n",
              "        action: 'complete',\n",
              "      }\n",
              "    };\n",
              "  }\n",
              "\n",
              "  for (const file of files) {\n",
              "    const li = document.createElement('li');\n",
              "    li.append(span(file.name, {fontWeight: 'bold'}));\n",
              "    li.append(span(\n",
              "        `(${file.type || 'n/a'}) - ${file.size} bytes, ` +\n",
              "        `last modified: ${\n",
              "            file.lastModifiedDate ? file.lastModifiedDate.toLocaleDateString() :\n",
              "                                    'n/a'} - `));\n",
              "    const percent = span('0% done');\n",
              "    li.appendChild(percent);\n",
              "\n",
              "    outputElement.appendChild(li);\n",
              "\n",
              "    const fileDataPromise = new Promise((resolve) => {\n",
              "      const reader = new FileReader();\n",
              "      reader.onload = (e) => {\n",
              "        resolve(e.target.result);\n",
              "      };\n",
              "      reader.readAsArrayBuffer(file);\n",
              "    });\n",
              "    // Wait for the data to be ready.\n",
              "    let fileData = yield {\n",
              "      promise: fileDataPromise,\n",
              "      response: {\n",
              "        action: 'continue',\n",
              "      }\n",
              "    };\n",
              "\n",
              "    // Use a chunked sending to avoid message size limits. See b/62115660.\n",
              "    let position = 0;\n",
              "    do {\n",
              "      const length = Math.min(fileData.byteLength - position, MAX_PAYLOAD_SIZE);\n",
              "      const chunk = new Uint8Array(fileData, position, length);\n",
              "      position += length;\n",
              "\n",
              "      const base64 = btoa(String.fromCharCode.apply(null, chunk));\n",
              "      yield {\n",
              "        response: {\n",
              "          action: 'append',\n",
              "          file: file.name,\n",
              "          data: base64,\n",
              "        },\n",
              "      };\n",
              "\n",
              "      let percentDone = fileData.byteLength === 0 ?\n",
              "          100 :\n",
              "          Math.round((position / fileData.byteLength) * 100);\n",
              "      percent.textContent = `${percentDone}% done`;\n",
              "\n",
              "    } while (position < fileData.byteLength);\n",
              "  }\n",
              "\n",
              "  // All done.\n",
              "  yield {\n",
              "    response: {\n",
              "      action: 'complete',\n",
              "    }\n",
              "  };\n",
              "}\n",
              "\n",
              "scope.google = scope.google || {};\n",
              "scope.google.colab = scope.google.colab || {};\n",
              "scope.google.colab._files = {\n",
              "  _uploadFiles,\n",
              "  _uploadFilesContinue,\n",
              "};\n",
              "})(self);\n",
              "</script> "
            ]
          },
          "metadata": {}
        },
        {
          "output_type": "stream",
          "name": "stdout",
          "text": [
            "Saving cars_rating.csv to cars_rating (2).csv\n"
          ]
        }
      ],
      "source": [
        "from google.colab import files\n",
        "uploaded = files.upload()"
      ]
    },
    {
      "cell_type": "code",
      "source": [
        "import pandas as pd\n",
        "import io\n",
        "# load data\n",
        "df = pd.read_csv(io.StringIO(uploaded['cars_rating (2).csv'].decode('utf-8')))\n",
        "df.head()"
      ],
      "metadata": {
        "colab": {
          "base_uri": "https://localhost:8080/",
          "height": 206
        },
        "id": "R-GR4CGcmjta",
        "outputId": "66b19828-cef1-48dc-8b83-5777feb53ed7"
      },
      "execution_count": 6,
      "outputs": [
        {
          "output_type": "execute_result",
          "data": {
            "text/plain": [
              "   Index                     Car               Price  Overall Rating  \\\n",
              "0      0  Maruti Suzuki Alto K10    3.99 - 5.96 Lakh             4.4   \n",
              "1      1  Maruti Suzuki Alto 800    3.25 - 5.12 Lakh             4.2   \n",
              "2      2            Renault Kwid    4.70 - 6.45 Lakh             3.5   \n",
              "3      3  Maruti Suzuki Alto K10    3.99 - 5.96 Lakh             4.4   \n",
              "4      4  Maruti Suzuki Alto 800    3.25 - 5.12 Lakh             4.2   \n",
              "\n",
              "   Exterior  Interior  Ride Quality  \n",
              "0       4.4       4.4           4.4  \n",
              "1       4.0       3.8           4.2  \n",
              "2       2.7       3.0           2.3  \n",
              "3       4.4       4.4           4.4  \n",
              "4       4.0       3.8           4.2  "
            ],
            "text/html": [
              "\n",
              "  <div id=\"df-89b4cb4d-57b0-46c3-8fbc-5eacc0a6bd96\" class=\"colab-df-container\">\n",
              "    <div>\n",
              "<style scoped>\n",
              "    .dataframe tbody tr th:only-of-type {\n",
              "        vertical-align: middle;\n",
              "    }\n",
              "\n",
              "    .dataframe tbody tr th {\n",
              "        vertical-align: top;\n",
              "    }\n",
              "\n",
              "    .dataframe thead th {\n",
              "        text-align: right;\n",
              "    }\n",
              "</style>\n",
              "<table border=\"1\" class=\"dataframe\">\n",
              "  <thead>\n",
              "    <tr style=\"text-align: right;\">\n",
              "      <th></th>\n",
              "      <th>Index</th>\n",
              "      <th>Car</th>\n",
              "      <th>Price</th>\n",
              "      <th>Overall Rating</th>\n",
              "      <th>Exterior</th>\n",
              "      <th>Interior</th>\n",
              "      <th>Ride Quality</th>\n",
              "    </tr>\n",
              "  </thead>\n",
              "  <tbody>\n",
              "    <tr>\n",
              "      <th>0</th>\n",
              "      <td>0</td>\n",
              "      <td>Maruti Suzuki Alto K10</td>\n",
              "      <td>3.99 - 5.96 Lakh</td>\n",
              "      <td>4.4</td>\n",
              "      <td>4.4</td>\n",
              "      <td>4.4</td>\n",
              "      <td>4.4</td>\n",
              "    </tr>\n",
              "    <tr>\n",
              "      <th>1</th>\n",
              "      <td>1</td>\n",
              "      <td>Maruti Suzuki Alto 800</td>\n",
              "      <td>3.25 - 5.12 Lakh</td>\n",
              "      <td>4.2</td>\n",
              "      <td>4.0</td>\n",
              "      <td>3.8</td>\n",
              "      <td>4.2</td>\n",
              "    </tr>\n",
              "    <tr>\n",
              "      <th>2</th>\n",
              "      <td>2</td>\n",
              "      <td>Renault Kwid</td>\n",
              "      <td>4.70 - 6.45 Lakh</td>\n",
              "      <td>3.5</td>\n",
              "      <td>2.7</td>\n",
              "      <td>3.0</td>\n",
              "      <td>2.3</td>\n",
              "    </tr>\n",
              "    <tr>\n",
              "      <th>3</th>\n",
              "      <td>3</td>\n",
              "      <td>Maruti Suzuki Alto K10</td>\n",
              "      <td>3.99 - 5.96 Lakh</td>\n",
              "      <td>4.4</td>\n",
              "      <td>4.4</td>\n",
              "      <td>4.4</td>\n",
              "      <td>4.4</td>\n",
              "    </tr>\n",
              "    <tr>\n",
              "      <th>4</th>\n",
              "      <td>4</td>\n",
              "      <td>Maruti Suzuki Alto 800</td>\n",
              "      <td>3.25 - 5.12 Lakh</td>\n",
              "      <td>4.2</td>\n",
              "      <td>4.0</td>\n",
              "      <td>3.8</td>\n",
              "      <td>4.2</td>\n",
              "    </tr>\n",
              "  </tbody>\n",
              "</table>\n",
              "</div>\n",
              "    <div class=\"colab-df-buttons\">\n",
              "\n",
              "  <div class=\"colab-df-container\">\n",
              "    <button class=\"colab-df-convert\" onclick=\"convertToInteractive('df-89b4cb4d-57b0-46c3-8fbc-5eacc0a6bd96')\"\n",
              "            title=\"Convert this dataframe to an interactive table.\"\n",
              "            style=\"display:none;\">\n",
              "\n",
              "  <svg xmlns=\"http://www.w3.org/2000/svg\" height=\"24px\" viewBox=\"0 -960 960 960\">\n",
              "    <path d=\"M120-120v-720h720v720H120Zm60-500h600v-160H180v160Zm220 220h160v-160H400v160Zm0 220h160v-160H400v160ZM180-400h160v-160H180v160Zm440 0h160v-160H620v160ZM180-180h160v-160H180v160Zm440 0h160v-160H620v160Z\"/>\n",
              "  </svg>\n",
              "    </button>\n",
              "\n",
              "  <style>\n",
              "    .colab-df-container {\n",
              "      display:flex;\n",
              "      gap: 12px;\n",
              "    }\n",
              "\n",
              "    .colab-df-convert {\n",
              "      background-color: #E8F0FE;\n",
              "      border: none;\n",
              "      border-radius: 50%;\n",
              "      cursor: pointer;\n",
              "      display: none;\n",
              "      fill: #1967D2;\n",
              "      height: 32px;\n",
              "      padding: 0 0 0 0;\n",
              "      width: 32px;\n",
              "    }\n",
              "\n",
              "    .colab-df-convert:hover {\n",
              "      background-color: #E2EBFA;\n",
              "      box-shadow: 0px 1px 2px rgba(60, 64, 67, 0.3), 0px 1px 3px 1px rgba(60, 64, 67, 0.15);\n",
              "      fill: #174EA6;\n",
              "    }\n",
              "\n",
              "    .colab-df-buttons div {\n",
              "      margin-bottom: 4px;\n",
              "    }\n",
              "\n",
              "    [theme=dark] .colab-df-convert {\n",
              "      background-color: #3B4455;\n",
              "      fill: #D2E3FC;\n",
              "    }\n",
              "\n",
              "    [theme=dark] .colab-df-convert:hover {\n",
              "      background-color: #434B5C;\n",
              "      box-shadow: 0px 1px 3px 1px rgba(0, 0, 0, 0.15);\n",
              "      filter: drop-shadow(0px 1px 2px rgba(0, 0, 0, 0.3));\n",
              "      fill: #FFFFFF;\n",
              "    }\n",
              "  </style>\n",
              "\n",
              "    <script>\n",
              "      const buttonEl =\n",
              "        document.querySelector('#df-89b4cb4d-57b0-46c3-8fbc-5eacc0a6bd96 button.colab-df-convert');\n",
              "      buttonEl.style.display =\n",
              "        google.colab.kernel.accessAllowed ? 'block' : 'none';\n",
              "\n",
              "      async function convertToInteractive(key) {\n",
              "        const element = document.querySelector('#df-89b4cb4d-57b0-46c3-8fbc-5eacc0a6bd96');\n",
              "        const dataTable =\n",
              "          await google.colab.kernel.invokeFunction('convertToInteractive',\n",
              "                                                    [key], {});\n",
              "        if (!dataTable) return;\n",
              "\n",
              "        const docLinkHtml = 'Like what you see? Visit the ' +\n",
              "          '<a target=\"_blank\" href=https://colab.research.google.com/notebooks/data_table.ipynb>data table notebook</a>'\n",
              "          + ' to learn more about interactive tables.';\n",
              "        element.innerHTML = '';\n",
              "        dataTable['output_type'] = 'display_data';\n",
              "        await google.colab.output.renderOutput(dataTable, element);\n",
              "        const docLink = document.createElement('div');\n",
              "        docLink.innerHTML = docLinkHtml;\n",
              "        element.appendChild(docLink);\n",
              "      }\n",
              "    </script>\n",
              "  </div>\n",
              "\n",
              "\n",
              "<div id=\"df-5fc1a849-89c1-4337-a151-89653b3d0454\">\n",
              "  <button class=\"colab-df-quickchart\" onclick=\"quickchart('df-5fc1a849-89c1-4337-a151-89653b3d0454')\"\n",
              "            title=\"Suggest charts.\"\n",
              "            style=\"display:none;\">\n",
              "\n",
              "<svg xmlns=\"http://www.w3.org/2000/svg\" height=\"24px\"viewBox=\"0 0 24 24\"\n",
              "     width=\"24px\">\n",
              "    <g>\n",
              "        <path d=\"M19 3H5c-1.1 0-2 .9-2 2v14c0 1.1.9 2 2 2h14c1.1 0 2-.9 2-2V5c0-1.1-.9-2-2-2zM9 17H7v-7h2v7zm4 0h-2V7h2v10zm4 0h-2v-4h2v4z\"/>\n",
              "    </g>\n",
              "</svg>\n",
              "  </button>\n",
              "\n",
              "<style>\n",
              "  .colab-df-quickchart {\n",
              "      --bg-color: #E8F0FE;\n",
              "      --fill-color: #1967D2;\n",
              "      --hover-bg-color: #E2EBFA;\n",
              "      --hover-fill-color: #174EA6;\n",
              "      --disabled-fill-color: #AAA;\n",
              "      --disabled-bg-color: #DDD;\n",
              "  }\n",
              "\n",
              "  [theme=dark] .colab-df-quickchart {\n",
              "      --bg-color: #3B4455;\n",
              "      --fill-color: #D2E3FC;\n",
              "      --hover-bg-color: #434B5C;\n",
              "      --hover-fill-color: #FFFFFF;\n",
              "      --disabled-bg-color: #3B4455;\n",
              "      --disabled-fill-color: #666;\n",
              "  }\n",
              "\n",
              "  .colab-df-quickchart {\n",
              "    background-color: var(--bg-color);\n",
              "    border: none;\n",
              "    border-radius: 50%;\n",
              "    cursor: pointer;\n",
              "    display: none;\n",
              "    fill: var(--fill-color);\n",
              "    height: 32px;\n",
              "    padding: 0;\n",
              "    width: 32px;\n",
              "  }\n",
              "\n",
              "  .colab-df-quickchart:hover {\n",
              "    background-color: var(--hover-bg-color);\n",
              "    box-shadow: 0 1px 2px rgba(60, 64, 67, 0.3), 0 1px 3px 1px rgba(60, 64, 67, 0.15);\n",
              "    fill: var(--button-hover-fill-color);\n",
              "  }\n",
              "\n",
              "  .colab-df-quickchart-complete:disabled,\n",
              "  .colab-df-quickchart-complete:disabled:hover {\n",
              "    background-color: var(--disabled-bg-color);\n",
              "    fill: var(--disabled-fill-color);\n",
              "    box-shadow: none;\n",
              "  }\n",
              "\n",
              "  .colab-df-spinner {\n",
              "    border: 2px solid var(--fill-color);\n",
              "    border-color: transparent;\n",
              "    border-bottom-color: var(--fill-color);\n",
              "    animation:\n",
              "      spin 1s steps(1) infinite;\n",
              "  }\n",
              "\n",
              "  @keyframes spin {\n",
              "    0% {\n",
              "      border-color: transparent;\n",
              "      border-bottom-color: var(--fill-color);\n",
              "      border-left-color: var(--fill-color);\n",
              "    }\n",
              "    20% {\n",
              "      border-color: transparent;\n",
              "      border-left-color: var(--fill-color);\n",
              "      border-top-color: var(--fill-color);\n",
              "    }\n",
              "    30% {\n",
              "      border-color: transparent;\n",
              "      border-left-color: var(--fill-color);\n",
              "      border-top-color: var(--fill-color);\n",
              "      border-right-color: var(--fill-color);\n",
              "    }\n",
              "    40% {\n",
              "      border-color: transparent;\n",
              "      border-right-color: var(--fill-color);\n",
              "      border-top-color: var(--fill-color);\n",
              "    }\n",
              "    60% {\n",
              "      border-color: transparent;\n",
              "      border-right-color: var(--fill-color);\n",
              "    }\n",
              "    80% {\n",
              "      border-color: transparent;\n",
              "      border-right-color: var(--fill-color);\n",
              "      border-bottom-color: var(--fill-color);\n",
              "    }\n",
              "    90% {\n",
              "      border-color: transparent;\n",
              "      border-bottom-color: var(--fill-color);\n",
              "    }\n",
              "  }\n",
              "</style>\n",
              "\n",
              "  <script>\n",
              "    async function quickchart(key) {\n",
              "      const quickchartButtonEl =\n",
              "        document.querySelector('#' + key + ' button');\n",
              "      quickchartButtonEl.disabled = true;  // To prevent multiple clicks.\n",
              "      quickchartButtonEl.classList.add('colab-df-spinner');\n",
              "      try {\n",
              "        const charts = await google.colab.kernel.invokeFunction(\n",
              "            'suggestCharts', [key], {});\n",
              "      } catch (error) {\n",
              "        console.error('Error during call to suggestCharts:', error);\n",
              "      }\n",
              "      quickchartButtonEl.classList.remove('colab-df-spinner');\n",
              "      quickchartButtonEl.classList.add('colab-df-quickchart-complete');\n",
              "    }\n",
              "    (() => {\n",
              "      let quickchartButtonEl =\n",
              "        document.querySelector('#df-5fc1a849-89c1-4337-a151-89653b3d0454 button');\n",
              "      quickchartButtonEl.style.display =\n",
              "        google.colab.kernel.accessAllowed ? 'block' : 'none';\n",
              "    })();\n",
              "  </script>\n",
              "</div>\n",
              "    </div>\n",
              "  </div>\n"
            ]
          },
          "metadata": {},
          "execution_count": 6
        }
      ]
    },
    {
      "cell_type": "code",
      "source": [
        "df.info()"
      ],
      "metadata": {
        "colab": {
          "base_uri": "https://localhost:8080/"
        },
        "id": "2AgSGa_-mnyo",
        "outputId": "7ff6dc7e-770c-4d9e-a1ca-ad10c4590411"
      },
      "execution_count": 7,
      "outputs": [
        {
          "output_type": "stream",
          "name": "stdout",
          "text": [
            "<class 'pandas.core.frame.DataFrame'>\n",
            "RangeIndex: 172 entries, 0 to 171\n",
            "Data columns (total 7 columns):\n",
            " #   Column          Non-Null Count  Dtype  \n",
            "---  ------          --------------  -----  \n",
            " 0   Index           172 non-null    int64  \n",
            " 1   Car             172 non-null    object \n",
            " 2   Price           172 non-null    object \n",
            " 3   Overall Rating  172 non-null    float64\n",
            " 4   Exterior        113 non-null    float64\n",
            " 5   Interior        113 non-null    float64\n",
            " 6   Ride Quality    113 non-null    float64\n",
            "dtypes: float64(4), int64(1), object(2)\n",
            "memory usage: 9.5+ KB\n"
          ]
        }
      ]
    },
    {
      "cell_type": "code",
      "source": [
        "df.describe()"
      ],
      "metadata": {
        "colab": {
          "base_uri": "https://localhost:8080/",
          "height": 300
        },
        "id": "TXVeDIj3mrKg",
        "outputId": "1109df0a-3d9a-4958-a43a-6cc6f5c54540"
      },
      "execution_count": 8,
      "outputs": [
        {
          "output_type": "execute_result",
          "data": {
            "text/plain": [
              "            Index  Overall Rating    Exterior    Interior  Ride Quality\n",
              "count  172.000000      172.000000  113.000000  113.000000    113.000000\n",
              "mean    85.500000        2.956977    4.454867    4.396460      4.403540\n",
              "std     49.796252        2.074690    0.492079    0.476956      0.549501\n",
              "min      0.000000        0.000000    2.700000    3.000000      2.300000\n",
              "25%     42.750000        0.000000    4.200000    4.100000      4.200000\n",
              "50%     85.500000        4.000000    4.500000    4.400000      4.500000\n",
              "75%    128.250000        4.500000    4.900000    4.800000      4.800000\n",
              "max    171.000000        5.000000    5.000000    5.000000      5.000000"
            ],
            "text/html": [
              "\n",
              "  <div id=\"df-22cf4cf0-f666-466b-a8ce-a60b11bc4106\" class=\"colab-df-container\">\n",
              "    <div>\n",
              "<style scoped>\n",
              "    .dataframe tbody tr th:only-of-type {\n",
              "        vertical-align: middle;\n",
              "    }\n",
              "\n",
              "    .dataframe tbody tr th {\n",
              "        vertical-align: top;\n",
              "    }\n",
              "\n",
              "    .dataframe thead th {\n",
              "        text-align: right;\n",
              "    }\n",
              "</style>\n",
              "<table border=\"1\" class=\"dataframe\">\n",
              "  <thead>\n",
              "    <tr style=\"text-align: right;\">\n",
              "      <th></th>\n",
              "      <th>Index</th>\n",
              "      <th>Overall Rating</th>\n",
              "      <th>Exterior</th>\n",
              "      <th>Interior</th>\n",
              "      <th>Ride Quality</th>\n",
              "    </tr>\n",
              "  </thead>\n",
              "  <tbody>\n",
              "    <tr>\n",
              "      <th>count</th>\n",
              "      <td>172.000000</td>\n",
              "      <td>172.000000</td>\n",
              "      <td>113.000000</td>\n",
              "      <td>113.000000</td>\n",
              "      <td>113.000000</td>\n",
              "    </tr>\n",
              "    <tr>\n",
              "      <th>mean</th>\n",
              "      <td>85.500000</td>\n",
              "      <td>2.956977</td>\n",
              "      <td>4.454867</td>\n",
              "      <td>4.396460</td>\n",
              "      <td>4.403540</td>\n",
              "    </tr>\n",
              "    <tr>\n",
              "      <th>std</th>\n",
              "      <td>49.796252</td>\n",
              "      <td>2.074690</td>\n",
              "      <td>0.492079</td>\n",
              "      <td>0.476956</td>\n",
              "      <td>0.549501</td>\n",
              "    </tr>\n",
              "    <tr>\n",
              "      <th>min</th>\n",
              "      <td>0.000000</td>\n",
              "      <td>0.000000</td>\n",
              "      <td>2.700000</td>\n",
              "      <td>3.000000</td>\n",
              "      <td>2.300000</td>\n",
              "    </tr>\n",
              "    <tr>\n",
              "      <th>25%</th>\n",
              "      <td>42.750000</td>\n",
              "      <td>0.000000</td>\n",
              "      <td>4.200000</td>\n",
              "      <td>4.100000</td>\n",
              "      <td>4.200000</td>\n",
              "    </tr>\n",
              "    <tr>\n",
              "      <th>50%</th>\n",
              "      <td>85.500000</td>\n",
              "      <td>4.000000</td>\n",
              "      <td>4.500000</td>\n",
              "      <td>4.400000</td>\n",
              "      <td>4.500000</td>\n",
              "    </tr>\n",
              "    <tr>\n",
              "      <th>75%</th>\n",
              "      <td>128.250000</td>\n",
              "      <td>4.500000</td>\n",
              "      <td>4.900000</td>\n",
              "      <td>4.800000</td>\n",
              "      <td>4.800000</td>\n",
              "    </tr>\n",
              "    <tr>\n",
              "      <th>max</th>\n",
              "      <td>171.000000</td>\n",
              "      <td>5.000000</td>\n",
              "      <td>5.000000</td>\n",
              "      <td>5.000000</td>\n",
              "      <td>5.000000</td>\n",
              "    </tr>\n",
              "  </tbody>\n",
              "</table>\n",
              "</div>\n",
              "    <div class=\"colab-df-buttons\">\n",
              "\n",
              "  <div class=\"colab-df-container\">\n",
              "    <button class=\"colab-df-convert\" onclick=\"convertToInteractive('df-22cf4cf0-f666-466b-a8ce-a60b11bc4106')\"\n",
              "            title=\"Convert this dataframe to an interactive table.\"\n",
              "            style=\"display:none;\">\n",
              "\n",
              "  <svg xmlns=\"http://www.w3.org/2000/svg\" height=\"24px\" viewBox=\"0 -960 960 960\">\n",
              "    <path d=\"M120-120v-720h720v720H120Zm60-500h600v-160H180v160Zm220 220h160v-160H400v160Zm0 220h160v-160H400v160ZM180-400h160v-160H180v160Zm440 0h160v-160H620v160ZM180-180h160v-160H180v160Zm440 0h160v-160H620v160Z\"/>\n",
              "  </svg>\n",
              "    </button>\n",
              "\n",
              "  <style>\n",
              "    .colab-df-container {\n",
              "      display:flex;\n",
              "      gap: 12px;\n",
              "    }\n",
              "\n",
              "    .colab-df-convert {\n",
              "      background-color: #E8F0FE;\n",
              "      border: none;\n",
              "      border-radius: 50%;\n",
              "      cursor: pointer;\n",
              "      display: none;\n",
              "      fill: #1967D2;\n",
              "      height: 32px;\n",
              "      padding: 0 0 0 0;\n",
              "      width: 32px;\n",
              "    }\n",
              "\n",
              "    .colab-df-convert:hover {\n",
              "      background-color: #E2EBFA;\n",
              "      box-shadow: 0px 1px 2px rgba(60, 64, 67, 0.3), 0px 1px 3px 1px rgba(60, 64, 67, 0.15);\n",
              "      fill: #174EA6;\n",
              "    }\n",
              "\n",
              "    .colab-df-buttons div {\n",
              "      margin-bottom: 4px;\n",
              "    }\n",
              "\n",
              "    [theme=dark] .colab-df-convert {\n",
              "      background-color: #3B4455;\n",
              "      fill: #D2E3FC;\n",
              "    }\n",
              "\n",
              "    [theme=dark] .colab-df-convert:hover {\n",
              "      background-color: #434B5C;\n",
              "      box-shadow: 0px 1px 3px 1px rgba(0, 0, 0, 0.15);\n",
              "      filter: drop-shadow(0px 1px 2px rgba(0, 0, 0, 0.3));\n",
              "      fill: #FFFFFF;\n",
              "    }\n",
              "  </style>\n",
              "\n",
              "    <script>\n",
              "      const buttonEl =\n",
              "        document.querySelector('#df-22cf4cf0-f666-466b-a8ce-a60b11bc4106 button.colab-df-convert');\n",
              "      buttonEl.style.display =\n",
              "        google.colab.kernel.accessAllowed ? 'block' : 'none';\n",
              "\n",
              "      async function convertToInteractive(key) {\n",
              "        const element = document.querySelector('#df-22cf4cf0-f666-466b-a8ce-a60b11bc4106');\n",
              "        const dataTable =\n",
              "          await google.colab.kernel.invokeFunction('convertToInteractive',\n",
              "                                                    [key], {});\n",
              "        if (!dataTable) return;\n",
              "\n",
              "        const docLinkHtml = 'Like what you see? Visit the ' +\n",
              "          '<a target=\"_blank\" href=https://colab.research.google.com/notebooks/data_table.ipynb>data table notebook</a>'\n",
              "          + ' to learn more about interactive tables.';\n",
              "        element.innerHTML = '';\n",
              "        dataTable['output_type'] = 'display_data';\n",
              "        await google.colab.output.renderOutput(dataTable, element);\n",
              "        const docLink = document.createElement('div');\n",
              "        docLink.innerHTML = docLinkHtml;\n",
              "        element.appendChild(docLink);\n",
              "      }\n",
              "    </script>\n",
              "  </div>\n",
              "\n",
              "\n",
              "<div id=\"df-b9c91279-81e2-4d2b-95be-ca2b4e98ae3e\">\n",
              "  <button class=\"colab-df-quickchart\" onclick=\"quickchart('df-b9c91279-81e2-4d2b-95be-ca2b4e98ae3e')\"\n",
              "            title=\"Suggest charts.\"\n",
              "            style=\"display:none;\">\n",
              "\n",
              "<svg xmlns=\"http://www.w3.org/2000/svg\" height=\"24px\"viewBox=\"0 0 24 24\"\n",
              "     width=\"24px\">\n",
              "    <g>\n",
              "        <path d=\"M19 3H5c-1.1 0-2 .9-2 2v14c0 1.1.9 2 2 2h14c1.1 0 2-.9 2-2V5c0-1.1-.9-2-2-2zM9 17H7v-7h2v7zm4 0h-2V7h2v10zm4 0h-2v-4h2v4z\"/>\n",
              "    </g>\n",
              "</svg>\n",
              "  </button>\n",
              "\n",
              "<style>\n",
              "  .colab-df-quickchart {\n",
              "      --bg-color: #E8F0FE;\n",
              "      --fill-color: #1967D2;\n",
              "      --hover-bg-color: #E2EBFA;\n",
              "      --hover-fill-color: #174EA6;\n",
              "      --disabled-fill-color: #AAA;\n",
              "      --disabled-bg-color: #DDD;\n",
              "  }\n",
              "\n",
              "  [theme=dark] .colab-df-quickchart {\n",
              "      --bg-color: #3B4455;\n",
              "      --fill-color: #D2E3FC;\n",
              "      --hover-bg-color: #434B5C;\n",
              "      --hover-fill-color: #FFFFFF;\n",
              "      --disabled-bg-color: #3B4455;\n",
              "      --disabled-fill-color: #666;\n",
              "  }\n",
              "\n",
              "  .colab-df-quickchart {\n",
              "    background-color: var(--bg-color);\n",
              "    border: none;\n",
              "    border-radius: 50%;\n",
              "    cursor: pointer;\n",
              "    display: none;\n",
              "    fill: var(--fill-color);\n",
              "    height: 32px;\n",
              "    padding: 0;\n",
              "    width: 32px;\n",
              "  }\n",
              "\n",
              "  .colab-df-quickchart:hover {\n",
              "    background-color: var(--hover-bg-color);\n",
              "    box-shadow: 0 1px 2px rgba(60, 64, 67, 0.3), 0 1px 3px 1px rgba(60, 64, 67, 0.15);\n",
              "    fill: var(--button-hover-fill-color);\n",
              "  }\n",
              "\n",
              "  .colab-df-quickchart-complete:disabled,\n",
              "  .colab-df-quickchart-complete:disabled:hover {\n",
              "    background-color: var(--disabled-bg-color);\n",
              "    fill: var(--disabled-fill-color);\n",
              "    box-shadow: none;\n",
              "  }\n",
              "\n",
              "  .colab-df-spinner {\n",
              "    border: 2px solid var(--fill-color);\n",
              "    border-color: transparent;\n",
              "    border-bottom-color: var(--fill-color);\n",
              "    animation:\n",
              "      spin 1s steps(1) infinite;\n",
              "  }\n",
              "\n",
              "  @keyframes spin {\n",
              "    0% {\n",
              "      border-color: transparent;\n",
              "      border-bottom-color: var(--fill-color);\n",
              "      border-left-color: var(--fill-color);\n",
              "    }\n",
              "    20% {\n",
              "      border-color: transparent;\n",
              "      border-left-color: var(--fill-color);\n",
              "      border-top-color: var(--fill-color);\n",
              "    }\n",
              "    30% {\n",
              "      border-color: transparent;\n",
              "      border-left-color: var(--fill-color);\n",
              "      border-top-color: var(--fill-color);\n",
              "      border-right-color: var(--fill-color);\n",
              "    }\n",
              "    40% {\n",
              "      border-color: transparent;\n",
              "      border-right-color: var(--fill-color);\n",
              "      border-top-color: var(--fill-color);\n",
              "    }\n",
              "    60% {\n",
              "      border-color: transparent;\n",
              "      border-right-color: var(--fill-color);\n",
              "    }\n",
              "    80% {\n",
              "      border-color: transparent;\n",
              "      border-right-color: var(--fill-color);\n",
              "      border-bottom-color: var(--fill-color);\n",
              "    }\n",
              "    90% {\n",
              "      border-color: transparent;\n",
              "      border-bottom-color: var(--fill-color);\n",
              "    }\n",
              "  }\n",
              "</style>\n",
              "\n",
              "  <script>\n",
              "    async function quickchart(key) {\n",
              "      const quickchartButtonEl =\n",
              "        document.querySelector('#' + key + ' button');\n",
              "      quickchartButtonEl.disabled = true;  // To prevent multiple clicks.\n",
              "      quickchartButtonEl.classList.add('colab-df-spinner');\n",
              "      try {\n",
              "        const charts = await google.colab.kernel.invokeFunction(\n",
              "            'suggestCharts', [key], {});\n",
              "      } catch (error) {\n",
              "        console.error('Error during call to suggestCharts:', error);\n",
              "      }\n",
              "      quickchartButtonEl.classList.remove('colab-df-spinner');\n",
              "      quickchartButtonEl.classList.add('colab-df-quickchart-complete');\n",
              "    }\n",
              "    (() => {\n",
              "      let quickchartButtonEl =\n",
              "        document.querySelector('#df-b9c91279-81e2-4d2b-95be-ca2b4e98ae3e button');\n",
              "      quickchartButtonEl.style.display =\n",
              "        google.colab.kernel.accessAllowed ? 'block' : 'none';\n",
              "    })();\n",
              "  </script>\n",
              "</div>\n",
              "    </div>\n",
              "  </div>\n"
            ]
          },
          "metadata": {},
          "execution_count": 8
        }
      ]
    },
    {
      "cell_type": "markdown",
      "source": [
        "## **Data Preprocessing :**\n",
        "*   Drop \"Index\" column.\n",
        "*   Addressing missing values by assuming a value of N for missing ratings (Exterior,Interior, and Ride Quality) when overall rating is N.\n",
        "*   Split \"Car\" column into \"Car Brand\" and \"Car Model\".\n",
        "*   Split \"Price\" column into \"Lowest Price\" and \"Highest Price\" in Lakh unit.\n",
        "*   Calculate \"Price Range\" is price difference from \"Lowest Price\" and \"Highest Price\" in Lakh unit."
      ],
      "metadata": {
        "id": "tFcVX-gymtUO"
      }
    },
    {
      "cell_type": "code",
      "source": [
        "import numpy as np\n",
        "\n",
        "# drop index column\n",
        "df.drop(columns=['Index'], inplace=True)\n",
        "# Addressing missing values by assuming a value of 0 for missing ratings when overall rating is 0\n",
        "df.loc[df['Exterior'].isnull(), ['Exterior']] = df['Overall Rating']\n",
        "df.loc[df['Interior'].isnull(), ['Interior']] = df['Overall Rating']\n",
        "df.loc[df['Ride Quality'].isnull(), ['Ride Quality']] = df['Overall Rating']\n",
        "# Split \"Car\" column into \"Car Brand\" and \"Car Model\"\n",
        "brands = ['Maruti Suzuki','Renault','Hyundai','Tata','Honda','Nissan','Toyota','Kia','Mahindra','Jeep','MG','Isuzu','BYD','Skoda','Volkswagen','Citroen','Mercedes-Benz','BMW','Audi','MINI','Volvo','Land Rover','Lexus','Jaguar','Lamborghini','Porsche','Aston Martin']\n",
        "def extract_brand_model(car_name, brands):\n",
        "    car_name = car_name.strip()\n",
        "    for brand in brands:\n",
        "        if car_name.startswith(brand):\n",
        "            return brand, car_name[len(brand):].strip()\n",
        "    return 'Unknown', car_name\n",
        "df[['Car Brand', 'Car Model']] = df['Car'].apply(lambda x: extract_brand_model(x, brands)).apply(pd.Series)\n",
        "df.drop(columns=['Car'], inplace=True)\n",
        "# Split \"Price\" column into \"Lowest Price\" and \"Highest Price\"\n",
        "# Function to split the price range and convert to Lakh\n",
        "def split_and_convert_price(price):\n",
        "    if ' - ' in price:\n",
        "        lowest_price, highest_price = price.split(' - ')\n",
        "    else:\n",
        "        lowest_price = highest_price = price\n",
        "\n",
        "    # Convert Crore to Lakh (1 Crore = 100 Lakh)\n",
        "    if 'Crore' in lowest_price:\n",
        "        lowest_price = float(lowest_price.split(' Crore')[0]) * 100\n",
        "    else:\n",
        "        lowest_price = float(lowest_price.split(' Lakh')[0])\n",
        "\n",
        "    if 'Crore' in highest_price:\n",
        "        highest_price = float(highest_price.split(' Crore')[0]) * 100\n",
        "    else:\n",
        "        highest_price = float(highest_price.split(' Lakh')[0])\n",
        "\n",
        "    return lowest_price, highest_price\n",
        "\n",
        "# Apply the split_and_convert_price function to the \"Price\" column\n",
        "df['Lowest Price'], df['Highest Price'] = zip(*df['Price'].map(split_and_convert_price))\n",
        "\n",
        "\n",
        "df.drop(columns=['Price'], inplace=True)\n",
        "# calculate the price difference (Range) from \"Lowest Price\" and \"Highest Price\"\n",
        "df['Price Range'] = df['Highest Price'] - df['Lowest Price']\n",
        "print(df.head())"
      ],
      "metadata": {
        "colab": {
          "base_uri": "https://localhost:8080/"
        },
        "id": "YoCA9zKwmxq6",
        "outputId": "eef74d27-a857-4e26-caeb-b64546208f12"
      },
      "execution_count": 9,
      "outputs": [
        {
          "output_type": "stream",
          "name": "stdout",
          "text": [
            "   Overall Rating  Exterior  Interior  Ride Quality      Car Brand Car Model  \\\n",
            "0             4.4       4.4       4.4           4.4  Maruti Suzuki  Alto K10   \n",
            "1             4.2       4.0       3.8           4.2  Maruti Suzuki  Alto 800   \n",
            "2             3.5       2.7       3.0           2.3        Renault      Kwid   \n",
            "3             4.4       4.4       4.4           4.4  Maruti Suzuki  Alto K10   \n",
            "4             4.2       4.0       3.8           4.2  Maruti Suzuki  Alto 800   \n",
            "\n",
            "   Lowest Price  Highest Price  Price Range  \n",
            "0          3.99           5.96         1.97  \n",
            "1          3.25           5.12         1.87  \n",
            "2          4.70           6.45         1.75  \n",
            "3          3.99           5.96         1.97  \n",
            "4          3.25           5.12         1.87  \n"
          ]
        }
      ]
    },
    {
      "cell_type": "markdown",
      "source": [
        "## linear regression"
      ],
      "metadata": {
        "id": "TKUcGc1_tyfJ"
      }
    },
    {
      "cell_type": "markdown",
      "source": [
        "**Model Building:**\n",
        "\n",
        "\n",
        "1.   Data Labeling : Converting categorical features \"Car Brand\" and \"Car Model\" into numerical values with label encoder\n",
        "2.   Feature Selection : Exterior,Interior,Ride Quality,Car Brand,Car Model,Lowest Price,Highest Price and Price Range\n",
        "3.   Data Splitting : A common split ratio is 70-30 or 80-20, where allocate 70% or 80% of data to training set and remaining 30% or 20% to testing set. For smaller dataset like this dataset must allocate a larger percentage for testing to ensure a representative evaluation. Therefore this dataset use split ratio is 70-30.\n",
        "4.   Model Training : Train Linear Regression model using the training data. The model will learn the relationship between the input features (Exterior,Interior,Ride Quality,Car Brand,Car Model,Lowest Price,Highest Price and Price Range) and the target variable (Overall Rating)."
      ],
      "metadata": {
        "id": "IDsu76kFnPkt"
      }
    },
    {
      "cell_type": "code",
      "source": [
        "from sklearn.preprocessing import LabelEncoder\n",
        "\n",
        "label_encoder = LabelEncoder()\n",
        "# Encode \"Car Brand\" and \"Car Model\" columns\n",
        "df['Car Brand'] = label_encoder.fit_transform(df['Car Brand'])\n",
        "df['Car Model'] = label_encoder.fit_transform(df['Car Model'])\n",
        "df.head()"
      ],
      "metadata": {
        "colab": {
          "base_uri": "https://localhost:8080/",
          "height": 206
        },
        "id": "5bQnSMVbnRKv",
        "outputId": "8fa173e4-1ca1-45f5-f046-e43e8cec6e22"
      },
      "execution_count": 10,
      "outputs": [
        {
          "output_type": "execute_result",
          "data": {
            "text/plain": [
              "   Overall Rating  Exterior  Interior  Ride Quality  Car Brand  Car Model  \\\n",
              "0             4.4       4.4       4.4           4.4         17         11   \n",
              "1             4.2       4.0       3.8           4.2         17         10   \n",
              "2             3.5       2.7       3.0           2.3         21         59   \n",
              "3             4.4       4.4       4.4           4.4         17         11   \n",
              "4             4.2       4.0       3.8           4.2         17         10   \n",
              "\n",
              "   Lowest Price  Highest Price  Price Range  \n",
              "0          3.99           5.96         1.97  \n",
              "1          3.25           5.12         1.87  \n",
              "2          4.70           6.45         1.75  \n",
              "3          3.99           5.96         1.97  \n",
              "4          3.25           5.12         1.87  "
            ],
            "text/html": [
              "\n",
              "  <div id=\"df-46faf25d-fc9f-4a64-b33a-de1365ee737e\" class=\"colab-df-container\">\n",
              "    <div>\n",
              "<style scoped>\n",
              "    .dataframe tbody tr th:only-of-type {\n",
              "        vertical-align: middle;\n",
              "    }\n",
              "\n",
              "    .dataframe tbody tr th {\n",
              "        vertical-align: top;\n",
              "    }\n",
              "\n",
              "    .dataframe thead th {\n",
              "        text-align: right;\n",
              "    }\n",
              "</style>\n",
              "<table border=\"1\" class=\"dataframe\">\n",
              "  <thead>\n",
              "    <tr style=\"text-align: right;\">\n",
              "      <th></th>\n",
              "      <th>Overall Rating</th>\n",
              "      <th>Exterior</th>\n",
              "      <th>Interior</th>\n",
              "      <th>Ride Quality</th>\n",
              "      <th>Car Brand</th>\n",
              "      <th>Car Model</th>\n",
              "      <th>Lowest Price</th>\n",
              "      <th>Highest Price</th>\n",
              "      <th>Price Range</th>\n",
              "    </tr>\n",
              "  </thead>\n",
              "  <tbody>\n",
              "    <tr>\n",
              "      <th>0</th>\n",
              "      <td>4.4</td>\n",
              "      <td>4.4</td>\n",
              "      <td>4.4</td>\n",
              "      <td>4.4</td>\n",
              "      <td>17</td>\n",
              "      <td>11</td>\n",
              "      <td>3.99</td>\n",
              "      <td>5.96</td>\n",
              "      <td>1.97</td>\n",
              "    </tr>\n",
              "    <tr>\n",
              "      <th>1</th>\n",
              "      <td>4.2</td>\n",
              "      <td>4.0</td>\n",
              "      <td>3.8</td>\n",
              "      <td>4.2</td>\n",
              "      <td>17</td>\n",
              "      <td>10</td>\n",
              "      <td>3.25</td>\n",
              "      <td>5.12</td>\n",
              "      <td>1.87</td>\n",
              "    </tr>\n",
              "    <tr>\n",
              "      <th>2</th>\n",
              "      <td>3.5</td>\n",
              "      <td>2.7</td>\n",
              "      <td>3.0</td>\n",
              "      <td>2.3</td>\n",
              "      <td>21</td>\n",
              "      <td>59</td>\n",
              "      <td>4.70</td>\n",
              "      <td>6.45</td>\n",
              "      <td>1.75</td>\n",
              "    </tr>\n",
              "    <tr>\n",
              "      <th>3</th>\n",
              "      <td>4.4</td>\n",
              "      <td>4.4</td>\n",
              "      <td>4.4</td>\n",
              "      <td>4.4</td>\n",
              "      <td>17</td>\n",
              "      <td>11</td>\n",
              "      <td>3.99</td>\n",
              "      <td>5.96</td>\n",
              "      <td>1.97</td>\n",
              "    </tr>\n",
              "    <tr>\n",
              "      <th>4</th>\n",
              "      <td>4.2</td>\n",
              "      <td>4.0</td>\n",
              "      <td>3.8</td>\n",
              "      <td>4.2</td>\n",
              "      <td>17</td>\n",
              "      <td>10</td>\n",
              "      <td>3.25</td>\n",
              "      <td>5.12</td>\n",
              "      <td>1.87</td>\n",
              "    </tr>\n",
              "  </tbody>\n",
              "</table>\n",
              "</div>\n",
              "    <div class=\"colab-df-buttons\">\n",
              "\n",
              "  <div class=\"colab-df-container\">\n",
              "    <button class=\"colab-df-convert\" onclick=\"convertToInteractive('df-46faf25d-fc9f-4a64-b33a-de1365ee737e')\"\n",
              "            title=\"Convert this dataframe to an interactive table.\"\n",
              "            style=\"display:none;\">\n",
              "\n",
              "  <svg xmlns=\"http://www.w3.org/2000/svg\" height=\"24px\" viewBox=\"0 -960 960 960\">\n",
              "    <path d=\"M120-120v-720h720v720H120Zm60-500h600v-160H180v160Zm220 220h160v-160H400v160Zm0 220h160v-160H400v160ZM180-400h160v-160H180v160Zm440 0h160v-160H620v160ZM180-180h160v-160H180v160Zm440 0h160v-160H620v160Z\"/>\n",
              "  </svg>\n",
              "    </button>\n",
              "\n",
              "  <style>\n",
              "    .colab-df-container {\n",
              "      display:flex;\n",
              "      gap: 12px;\n",
              "    }\n",
              "\n",
              "    .colab-df-convert {\n",
              "      background-color: #E8F0FE;\n",
              "      border: none;\n",
              "      border-radius: 50%;\n",
              "      cursor: pointer;\n",
              "      display: none;\n",
              "      fill: #1967D2;\n",
              "      height: 32px;\n",
              "      padding: 0 0 0 0;\n",
              "      width: 32px;\n",
              "    }\n",
              "\n",
              "    .colab-df-convert:hover {\n",
              "      background-color: #E2EBFA;\n",
              "      box-shadow: 0px 1px 2px rgba(60, 64, 67, 0.3), 0px 1px 3px 1px rgba(60, 64, 67, 0.15);\n",
              "      fill: #174EA6;\n",
              "    }\n",
              "\n",
              "    .colab-df-buttons div {\n",
              "      margin-bottom: 4px;\n",
              "    }\n",
              "\n",
              "    [theme=dark] .colab-df-convert {\n",
              "      background-color: #3B4455;\n",
              "      fill: #D2E3FC;\n",
              "    }\n",
              "\n",
              "    [theme=dark] .colab-df-convert:hover {\n",
              "      background-color: #434B5C;\n",
              "      box-shadow: 0px 1px 3px 1px rgba(0, 0, 0, 0.15);\n",
              "      filter: drop-shadow(0px 1px 2px rgba(0, 0, 0, 0.3));\n",
              "      fill: #FFFFFF;\n",
              "    }\n",
              "  </style>\n",
              "\n",
              "    <script>\n",
              "      const buttonEl =\n",
              "        document.querySelector('#df-46faf25d-fc9f-4a64-b33a-de1365ee737e button.colab-df-convert');\n",
              "      buttonEl.style.display =\n",
              "        google.colab.kernel.accessAllowed ? 'block' : 'none';\n",
              "\n",
              "      async function convertToInteractive(key) {\n",
              "        const element = document.querySelector('#df-46faf25d-fc9f-4a64-b33a-de1365ee737e');\n",
              "        const dataTable =\n",
              "          await google.colab.kernel.invokeFunction('convertToInteractive',\n",
              "                                                    [key], {});\n",
              "        if (!dataTable) return;\n",
              "\n",
              "        const docLinkHtml = 'Like what you see? Visit the ' +\n",
              "          '<a target=\"_blank\" href=https://colab.research.google.com/notebooks/data_table.ipynb>data table notebook</a>'\n",
              "          + ' to learn more about interactive tables.';\n",
              "        element.innerHTML = '';\n",
              "        dataTable['output_type'] = 'display_data';\n",
              "        await google.colab.output.renderOutput(dataTable, element);\n",
              "        const docLink = document.createElement('div');\n",
              "        docLink.innerHTML = docLinkHtml;\n",
              "        element.appendChild(docLink);\n",
              "      }\n",
              "    </script>\n",
              "  </div>\n",
              "\n",
              "\n",
              "<div id=\"df-9e4d7f7b-51bf-422e-a7ba-df69d8ff2ffd\">\n",
              "  <button class=\"colab-df-quickchart\" onclick=\"quickchart('df-9e4d7f7b-51bf-422e-a7ba-df69d8ff2ffd')\"\n",
              "            title=\"Suggest charts.\"\n",
              "            style=\"display:none;\">\n",
              "\n",
              "<svg xmlns=\"http://www.w3.org/2000/svg\" height=\"24px\"viewBox=\"0 0 24 24\"\n",
              "     width=\"24px\">\n",
              "    <g>\n",
              "        <path d=\"M19 3H5c-1.1 0-2 .9-2 2v14c0 1.1.9 2 2 2h14c1.1 0 2-.9 2-2V5c0-1.1-.9-2-2-2zM9 17H7v-7h2v7zm4 0h-2V7h2v10zm4 0h-2v-4h2v4z\"/>\n",
              "    </g>\n",
              "</svg>\n",
              "  </button>\n",
              "\n",
              "<style>\n",
              "  .colab-df-quickchart {\n",
              "      --bg-color: #E8F0FE;\n",
              "      --fill-color: #1967D2;\n",
              "      --hover-bg-color: #E2EBFA;\n",
              "      --hover-fill-color: #174EA6;\n",
              "      --disabled-fill-color: #AAA;\n",
              "      --disabled-bg-color: #DDD;\n",
              "  }\n",
              "\n",
              "  [theme=dark] .colab-df-quickchart {\n",
              "      --bg-color: #3B4455;\n",
              "      --fill-color: #D2E3FC;\n",
              "      --hover-bg-color: #434B5C;\n",
              "      --hover-fill-color: #FFFFFF;\n",
              "      --disabled-bg-color: #3B4455;\n",
              "      --disabled-fill-color: #666;\n",
              "  }\n",
              "\n",
              "  .colab-df-quickchart {\n",
              "    background-color: var(--bg-color);\n",
              "    border: none;\n",
              "    border-radius: 50%;\n",
              "    cursor: pointer;\n",
              "    display: none;\n",
              "    fill: var(--fill-color);\n",
              "    height: 32px;\n",
              "    padding: 0;\n",
              "    width: 32px;\n",
              "  }\n",
              "\n",
              "  .colab-df-quickchart:hover {\n",
              "    background-color: var(--hover-bg-color);\n",
              "    box-shadow: 0 1px 2px rgba(60, 64, 67, 0.3), 0 1px 3px 1px rgba(60, 64, 67, 0.15);\n",
              "    fill: var(--button-hover-fill-color);\n",
              "  }\n",
              "\n",
              "  .colab-df-quickchart-complete:disabled,\n",
              "  .colab-df-quickchart-complete:disabled:hover {\n",
              "    background-color: var(--disabled-bg-color);\n",
              "    fill: var(--disabled-fill-color);\n",
              "    box-shadow: none;\n",
              "  }\n",
              "\n",
              "  .colab-df-spinner {\n",
              "    border: 2px solid var(--fill-color);\n",
              "    border-color: transparent;\n",
              "    border-bottom-color: var(--fill-color);\n",
              "    animation:\n",
              "      spin 1s steps(1) infinite;\n",
              "  }\n",
              "\n",
              "  @keyframes spin {\n",
              "    0% {\n",
              "      border-color: transparent;\n",
              "      border-bottom-color: var(--fill-color);\n",
              "      border-left-color: var(--fill-color);\n",
              "    }\n",
              "    20% {\n",
              "      border-color: transparent;\n",
              "      border-left-color: var(--fill-color);\n",
              "      border-top-color: var(--fill-color);\n",
              "    }\n",
              "    30% {\n",
              "      border-color: transparent;\n",
              "      border-left-color: var(--fill-color);\n",
              "      border-top-color: var(--fill-color);\n",
              "      border-right-color: var(--fill-color);\n",
              "    }\n",
              "    40% {\n",
              "      border-color: transparent;\n",
              "      border-right-color: var(--fill-color);\n",
              "      border-top-color: var(--fill-color);\n",
              "    }\n",
              "    60% {\n",
              "      border-color: transparent;\n",
              "      border-right-color: var(--fill-color);\n",
              "    }\n",
              "    80% {\n",
              "      border-color: transparent;\n",
              "      border-right-color: var(--fill-color);\n",
              "      border-bottom-color: var(--fill-color);\n",
              "    }\n",
              "    90% {\n",
              "      border-color: transparent;\n",
              "      border-bottom-color: var(--fill-color);\n",
              "    }\n",
              "  }\n",
              "</style>\n",
              "\n",
              "  <script>\n",
              "    async function quickchart(key) {\n",
              "      const quickchartButtonEl =\n",
              "        document.querySelector('#' + key + ' button');\n",
              "      quickchartButtonEl.disabled = true;  // To prevent multiple clicks.\n",
              "      quickchartButtonEl.classList.add('colab-df-spinner');\n",
              "      try {\n",
              "        const charts = await google.colab.kernel.invokeFunction(\n",
              "            'suggestCharts', [key], {});\n",
              "      } catch (error) {\n",
              "        console.error('Error during call to suggestCharts:', error);\n",
              "      }\n",
              "      quickchartButtonEl.classList.remove('colab-df-spinner');\n",
              "      quickchartButtonEl.classList.add('colab-df-quickchart-complete');\n",
              "    }\n",
              "    (() => {\n",
              "      let quickchartButtonEl =\n",
              "        document.querySelector('#df-9e4d7f7b-51bf-422e-a7ba-df69d8ff2ffd button');\n",
              "      quickchartButtonEl.style.display =\n",
              "        google.colab.kernel.accessAllowed ? 'block' : 'none';\n",
              "    })();\n",
              "  </script>\n",
              "</div>\n",
              "    </div>\n",
              "  </div>\n"
            ]
          },
          "metadata": {},
          "execution_count": 10
        }
      ]
    },
    {
      "cell_type": "markdown",
      "source": [
        "Using All Columns (70-30 Split)"
      ],
      "metadata": {
        "id": "Az9SJa20nXL3"
      }
    },
    {
      "cell_type": "code",
      "source": [
        "from sklearn.model_selection import train_test_split\n",
        "from sklearn.linear_model import LinearRegression\n",
        "from sklearn.metrics import mean_squared_error, mean_absolute_error, r2_score\n",
        "\n",
        "# Split data into training and testing sets (70-30 split)\n",
        "X = df.drop(columns=['Overall Rating'])  # Features\n",
        "y = df['Overall Rating']  # Target variable\n",
        "X_train, X_test, y_train, y_test = train_test_split(X, y, test_size=0.3, random_state=42)\n",
        "\n",
        "# Initialize and train Linear Regression model\n",
        "model = LinearRegression()\n",
        "model.fit(X_train, y_train)\n",
        "\n",
        "# Make predictions on test set\n",
        "y_pred = model.predict(X_test)\n",
        "\n",
        "# Evaluate model\n",
        "rmse = mean_squared_error(y_test, y_pred, squared=False)\n",
        "mae = mean_absolute_error(y_test, y_pred)\n",
        "r2 = r2_score(y_test, y_pred)\n",
        "\n",
        "print(f'Root Mean Squared Error (RMSE): {rmse:.2f}')\n",
        "print(f'Mean Absolute Error (MAE): {mae:.2f}')\n",
        "print(f'R-squared (R2) Score: {r2:.2f}')"
      ],
      "metadata": {
        "colab": {
          "base_uri": "https://localhost:8080/"
        },
        "id": "-D2_T6CxnY-9",
        "outputId": "699e3ec9-a08d-4c51-bd91-da0d82299e6c"
      },
      "execution_count": 11,
      "outputs": [
        {
          "output_type": "stream",
          "name": "stdout",
          "text": [
            "Root Mean Squared Error (RMSE): 0.35\n",
            "Mean Absolute Error (MAE): 0.21\n",
            "R-squared (R2) Score: 0.97\n"
          ]
        }
      ]
    },
    {
      "cell_type": "markdown",
      "source": [
        "Dropping 'Car Brand', 'Car Model', 'Price Range' Columns (70-30 Split)"
      ],
      "metadata": {
        "id": "D3L88gzvnbsM"
      }
    },
    {
      "cell_type": "code",
      "source": [
        "# Split data into training and testing sets (70-30 split)\n",
        "X = df.drop(columns=['Overall Rating','Car Brand','Car Model','Price Range'])  # Features\n",
        "y = df['Overall Rating']  # Target variable\n",
        "X_train, X_test, y_train, y_test = train_test_split(X, y, test_size=0.3, random_state=42)\n",
        "\n",
        "# Initialize and train Linear Regression model\n",
        "model = LinearRegression()\n",
        "model.fit(X_train, y_train)\n",
        "\n",
        "# Make predictions on test set\n",
        "y_pred = model.predict(X_test)\n",
        "\n",
        "# Evaluate model\n",
        "rmse = mean_squared_error(y_test, y_pred, squared=False)\n",
        "mae = mean_absolute_error(y_test, y_pred)\n",
        "r2 = r2_score(y_test, y_pred)\n",
        "\n",
        "print(f'Root Mean Squared Error (RMSE): {rmse:.2f}')\n",
        "print(f'Mean Absolute Error (MAE): {mae:.2f}')\n",
        "print(f'R-squared (R2) Score: {r2:.2f}')"
      ],
      "metadata": {
        "colab": {
          "base_uri": "https://localhost:8080/"
        },
        "id": "t4vSTeaqneY2",
        "outputId": "6966d738-ba54-4424-ace7-42c2364b4b26"
      },
      "execution_count": 12,
      "outputs": [
        {
          "output_type": "stream",
          "name": "stdout",
          "text": [
            "Root Mean Squared Error (RMSE): 0.34\n",
            "Mean Absolute Error (MAE): 0.21\n",
            "R-squared (R2) Score: 0.97\n"
          ]
        }
      ]
    },
    {
      "cell_type": "markdown",
      "source": [
        "Dropping 'Car Brand', 'Car Model', 'Price Range' Columns (60-40 Split)"
      ],
      "metadata": {
        "id": "P02fR9m4nkti"
      }
    },
    {
      "cell_type": "code",
      "source": [
        "# Split data into training and testing sets (60-40 split)\n",
        "X = df.drop(columns=['Overall Rating','Car Brand','Car Model','Price Range'])  # Features\n",
        "y = df['Overall Rating']  # Target variable\n",
        "X_train, X_test, y_train, y_test = train_test_split(X, y, test_size=0.4, random_state=42)\n",
        "\n",
        "# Initialize and train Linear Regression model\n",
        "model = LinearRegression()\n",
        "model.fit(X_train, y_train)\n",
        "\n",
        "# Make predictions on test set\n",
        "y_pred = model.predict(X_test)\n",
        "\n",
        "# Evaluate model\n",
        "rmse = mean_squared_error(y_test, y_pred, squared=False)\n",
        "mae = mean_absolute_error(y_test, y_pred)\n",
        "r2 = r2_score(y_test, y_pred)\n",
        "\n",
        "print(f'Root Mean Squared Error (RMSE): {rmse:.2f}')\n",
        "print(f'Mean Absolute Error (MAE): {mae:.2f}')\n",
        "print(f'R-squared (R2) Score: {r2:.2f}')"
      ],
      "metadata": {
        "colab": {
          "base_uri": "https://localhost:8080/"
        },
        "id": "bPReJBkcnjXE",
        "outputId": "138a641c-018f-41df-e2fd-0a9f007c61db"
      },
      "execution_count": 13,
      "outputs": [
        {
          "output_type": "stream",
          "name": "stdout",
          "text": [
            "Root Mean Squared Error (RMSE): 0.32\n",
            "Mean Absolute Error (MAE): 0.19\n",
            "R-squared (R2) Score: 0.98\n"
          ]
        }
      ]
    },
    {
      "cell_type": "markdown",
      "source": [
        "**Results:**"
      ],
      "metadata": {
        "id": "s-J0nqjTzDVy"
      }
    },
    {
      "cell_type": "markdown",
      "source": [
        "Use correlation heatmap to represent correlation between features and identify strong positive or negative correlations."
      ],
      "metadata": {
        "id": "ZCp3nwaHzFL9"
      }
    },
    {
      "cell_type": "code",
      "source": [
        "# Visualize the correlation heatmap\n",
        "import matplotlib.pyplot as plt\n",
        "import seaborn as sns\n",
        "\n",
        "corr_matrix = df.corr()\n",
        "plt.figure(figsize=(8, 6))\n",
        "sns.heatmap(corr_matrix, annot=True, cmap='coolwarm', linewidths=0.5)\n",
        "plt.title('Correlation Heatmap')\n",
        "plt.show()"
      ],
      "metadata": {
        "colab": {
          "base_uri": "https://localhost:8080/",
          "height": 630
        },
        "id": "PML8EP4soUq-",
        "outputId": "4e1a8810-1b56-4a6a-ff0e-6577827a703b"
      },
      "execution_count": 14,
      "outputs": [
        {
          "output_type": "display_data",
          "data": {
            "text/plain": [
              "<Figure size 800x600 with 2 Axes>"
            ],
            "image/png": "[encoded data removed]"
          },
          "metadata": {}
        }
      ]
    },
    {
      "cell_type": "code",
      "source": [
        "# Plot a histogram for Overall Rating\n",
        "plt.figure(figsize=(6, 4))\n",
        "sns.histplot(data=df, x=\"Overall Rating\", bins=10, kde=True)\n",
        "plt.title(\"Distribution of Overall Ratings\")\n",
        "plt.xlabel(\"Overall Rating\")\n",
        "plt.ylabel(\"Frequency\")\n",
        "plt.show()"
      ],
      "metadata": {
        "colab": {
          "base_uri": "https://localhost:8080/",
          "height": 410
        },
        "id": "lfwIHsPlzJd6",
        "outputId": "3386eb8e-ba8c-4a54-dc6e-ec4243944278"
      },
      "execution_count": 15,
      "outputs": [
        {
          "output_type": "display_data",
          "data": {
            "text/plain": [
              "<Figure size 600x400 with 1 Axes>"
            ],
            "image/png": "[encoded data removed]"
          },
          "metadata": {}
        }
      ]
    },
    {
      "cell_type": "code",
      "source": [
        "# Scatter plot of Exterior vs. Interior Ratings\n",
        "plt.figure(figsize=(6, 4))\n",
        "sns.scatterplot(data=df, x=\"Exterior\", y=\"Interior\")\n",
        "plt.title(\"Exterior Ratings vs Interior Ratings\")\n",
        "plt.xlabel(\"Exterior Rating\")\n",
        "plt.ylabel(\"Interior Rating\")\n",
        "plt.show()"
      ],
      "metadata": {
        "colab": {
          "base_uri": "https://localhost:8080/",
          "height": 410
        },
        "id": "Cyjod4uqzS3o",
        "outputId": "24464eb3-0027-47c4-81f6-c1ac0ce11716"
      },
      "execution_count": 16,
      "outputs": [
        {
          "output_type": "display_data",
          "data": {
            "text/plain": [
              "<Figure size 600x400 with 1 Axes>"
            ],
            "image/png": "[encoded data removed]"
          },
          "metadata": {}
        }
      ]
    },
    {
      "cell_type": "code",
      "source": [
        "# Bar chart for Car Brands\n",
        "plt.figure(figsize=(12, 6))\n",
        "sns.countplot(data=df, y=\"Car Brand\", order=df[\"Car Brand\"].value_counts().index[:])\n",
        "plt.title(\"Car Brands\")\n",
        "plt.xlabel(\"Frequency\")\n",
        "plt.ylabel(\"Car Brand\")\n",
        "plt.show()"
      ],
      "metadata": {
        "colab": {
          "base_uri": "https://localhost:8080/",
          "height": 564
        },
        "id": "zEdp2WpEzisG",
        "outputId": "94e85653-ed02-42d4-fcf4-97017acb116b"
      },
      "execution_count": 17,
      "outputs": [
        {
          "output_type": "display_data",
          "data": {
            "text/plain": [
              "<Figure size 1200x600 with 1 Axes>"
            ],
            "image/png": "[encoded data removed]"
          },
          "metadata": {}
        }
      ]
    },
    {
      "cell_type": "markdown",
      "source": [
        "Dropping 'Car Brand', 'Car Model', 'Price Range' Columns (60-40 Split)"
      ],
      "metadata": {
        "id": "YmWPeQcGzkl7"
      }
    },
    {
      "cell_type": "code",
      "source": [
        "# Split data into training and testing sets (60-40 split)\n",
        "X = df.drop(columns=['Overall Rating','Car Brand','Car Model','Price Range'])  # Features\n",
        "y = df['Overall Rating']  # Target variable\n",
        "X_train, X_test, y_train, y_test = train_test_split(X, y, test_size=0.4, random_state=42)\n",
        "\n",
        "# Initialize and train Linear Regression model\n",
        "model = LinearRegression()\n",
        "model.fit(X_train, y_train)\n",
        "\n",
        "# Make predictions on test set\n",
        "y_pred = model.predict(X_test)\n",
        "\n",
        "# Evaluate model\n",
        "rmse = mean_squared_error(y_test, y_pred, squared=False)\n",
        "mae = mean_absolute_error(y_test, y_pred)\n",
        "r2 = r2_score(y_test, y_pred)\n",
        "\n",
        "print(f'Root Mean Squared Error (RMSE): {rmse:.2f}')\n",
        "print(f'Mean Absolute Error (MAE): {mae:.2f}')\n",
        "print(f'R-squared (R2) Score: {r2:.2f}')"
      ],
      "metadata": {
        "colab": {
          "base_uri": "https://localhost:8080/"
        },
        "id": "qgnP3HfKzl-O",
        "outputId": "28d029a9-0977-45df-de84-78de3f661b33"
      },
      "execution_count": 18,
      "outputs": [
        {
          "output_type": "stream",
          "name": "stdout",
          "text": [
            "Root Mean Squared Error (RMSE): 0.32\n",
            "Mean Absolute Error (MAE): 0.19\n",
            "R-squared (R2) Score: 0.98\n"
          ]
        }
      ]
    },
    {
      "cell_type": "markdown",
      "source": [
        "Visualize model's predictions against actual ratings to gain a visual understanding of how well the model fits the data."
      ],
      "metadata": {
        "id": "Ifcf2Z21zoZC"
      }
    },
    {
      "cell_type": "code",
      "source": [
        "# Create a scatter plot\n",
        "plt.figure(figsize=(6, 4))\n",
        "plt.scatter(y_test, y_pred, alpha=0.5)\n",
        "plt.title('Model Predictions vs Actual Ratings')\n",
        "plt.xlabel('Actual Ratings')\n",
        "plt.ylabel('Predicted Ratings')\n",
        "plt.grid(True)\n",
        "# Add a diagonal line to represent perfect predictions\n",
        "plt.plot([min(y_test), max(y_test)], [min(y_test), max(y_test)], linestyle='--', color='red')\n",
        "# Show the plot\n",
        "plt.show()"
      ],
      "metadata": {
        "colab": {
          "base_uri": "https://localhost:8080/",
          "height": 410
        },
        "id": "GdLVw-jGzn-z",
        "outputId": "026dac88-b415-4b0d-f817-1782214fd835"
      },
      "execution_count": 19,
      "outputs": [
        {
          "output_type": "display_data",
          "data": {
            "text/plain": [
              "<Figure size 600x400 with 1 Axes>"
            ],
            "image/png": "[encoded data removed]"
          },
          "metadata": {}
        }
      ]
    },
    {
      "cell_type": "markdown",
      "source": [
        "**Conclusion:**\n",
        "\n",
        "1. Exterior: Exterior rating exhibits a strong positive correlation of approximately 0.988 with the \"Overall Rating\". This indicates that cars with higher exterior ratings tend to receive higher overall ratings from customers. It suggests that aesthetics, design elements, build quality, and visual appeal play a significant role in shaping overall customer satisfaction.\n",
        "\n",
        "2. Interior: Interior rating also demonstrates a robust positive correlation of around 0.990 with the \"Overall Rating\". This implies that cars with superior interior features, including cabin design, comfort, ergonomics, and technological features, are more likely to receive higher overall ratings from customers.\n",
        "\n",
        "3. Ride Quality: Ride quality rating exhibits a strong positive correlation of approximately 0.991 with the \"Overall Rating\". This highlights the importance of ride comfort, handling, suspension, and driving experience in influencing overall customer satisfaction. Cars with better on-road performance tend to receive higher overall ratings.\n",
        "\n",
        "4. Car Brand: Car brand column represents the brand of the car. While it shows a relatively weaker positive correlation of about 0.123 with the \"Overall Rating\", it still suggests that the brand can have some influence on customer satisfaction. However, its impact appears to be less significant compared to specific features like exterior, interior, and ride quality.\n",
        "\n",
        "5. Car Model: Car model demonstrates a negative correlation of approximately -0.142 with the \"Overall Rating\". This suggests that specific car models may have a slight negative influence on customer ratings. However, this correlation is relatively weak compared to the positive correlations observed with other features, indicating that the specific car model may have a lesser impact on overall customer satisfaction.\n",
        "\n",
        "6. Lowest Price: Lowest Price shows a negative correlation of around -0.450 with the \"Overall Rating\". This implies that cars with lower initial price points tend to receive higher overall ratings from customers. It's essential to note that this correlation may indicate that customers are more satisfied with cars that offer better value for their money.\n",
        "\n",
        "7. Highest Price: Lowest Price, the \"Highest Price\" also exhibits a negative correlation of approximately -0.415 with the \"Overall Rating\". This further supports the notion that customers associate higher satisfaction with cars that are more affordable or perceived as a good deal.\n",
        "\n",
        "8. Price Range: Price range demonstrates a negative correlation of approximately -0.166 with \"Overall Rating\".\n",
        "\n",
        "Model Predictions vs. Actual Ratings is one of critical aspects of our analysis is the examination of the relationship between our model's predictions and the actual ratings provided in the dataset. Upon visualizing these results, we observe a strong positive relationship between the actual ratings and the predicted ratings generated by our Linear Regression model. This positive relationship is indicative of the model's effectiveness in capturing the underlying patterns within the data. When the actual ratings are higher, the model tends to predict higher ratings as well, and conversely, when the actual ratings are lower, the model predicts lower ratings. This alignment between actual\n"
      ],
      "metadata": {
        "id": "QyvMpt0Pz7QS"
      }
    },
    {
      "cell_type": "markdown",
      "source": [
        "# In progress 2\n",
        "\n",
        "we plan to implement another model Random Forest and Gradient Boosting (e.g., XGBoost) as your next steps after Linear Regression to find the better model.\n",
        "\n",
        "\n"
      ],
      "metadata": {
        "id": "7lfA3v1A3Aft"
      }
    },
    {
      "cell_type": "markdown",
      "source": [
        "## choose another model"
      ],
      "metadata": {
        "id": "1ZsDZYn-tQtu"
      }
    },
    {
      "cell_type": "markdown",
      "source": [
        "Random Forest Regression"
      ],
      "metadata": {
        "id": "XriLR1M_5ORG"
      }
    },
    {
      "cell_type": "code",
      "source": [
        "from sklearn.ensemble import RandomForestRegressor\n",
        "\n",
        "# Split data into training and testing sets (70-30 split)\n",
        "X = df.drop(columns=['Overall Rating'])  # Features\n",
        "y = df['Overall Rating']  # Target variable\n",
        "X_train, X_test, y_train, y_test = train_test_split(X, y, test_size=0.3, random_state=42)\n",
        "\n",
        "# Initialize and train Random Forest Regressor\n",
        "rf_model = RandomForestRegressor(n_estimators=100, random_state=42)\n",
        "rf_model.fit(X_train, y_train)\n",
        "\n",
        "# Make predictions on test set\n",
        "y_pred_rf = rf_model.predict(X_test)\n",
        "\n",
        "# Evaluate Random Forest model\n",
        "rmse_rf = mean_squared_error(y_test, y_pred_rf, squared=False)\n",
        "mae_rf = mean_absolute_error(y_test, y_pred_rf)\n",
        "r2_rf = r2_score(y_test, y_pred_rf)\n",
        "\n",
        "print(\"Random Forest Regression Results:\")\n",
        "print(f'Root Mean Squared Error (RMSE): {rmse_rf:.2f}')\n",
        "print(f'Mean Absolute Error (MAE): {mae_rf:.2f}')\n",
        "print(f'R-squared (R2) Score: {r2_rf:.2f}')\n"
      ],
      "metadata": {
        "colab": {
          "base_uri": "https://localhost:8080/"
        },
        "id": "H5wZTv0O4Liz",
        "outputId": "c5f33ca3-1097-4e72-d18b-17fd4870ac77"
      },
      "execution_count": 20,
      "outputs": [
        {
          "output_type": "stream",
          "name": "stdout",
          "text": [
            "Random Forest Regression Results:\n",
            "Root Mean Squared Error (RMSE): 0.18\n",
            "Mean Absolute Error (MAE): 0.11\n",
            "R-squared (R2) Score: 0.99\n"
          ]
        }
      ]
    },
    {
      "cell_type": "markdown",
      "source": [
        "Gradient Boosting Regression (e.g., using XGBoost)"
      ],
      "metadata": {
        "id": "Ra2QO-PJ5iPK"
      }
    },
    {
      "cell_type": "code",
      "source": [
        "import xgboost as xgb\n",
        "\n",
        "# Initialize and train XGBoost Regressor\n",
        "xgb_model = xgb.XGBRegressor(n_estimators=100, random_state=42)\n",
        "xgb_model.fit(X_train, y_train)\n",
        "\n",
        "# Make predictions on test set\n",
        "y_pred_xgb = xgb_model.predict(X_test)\n",
        "\n",
        "# Evaluate XGBoost model\n",
        "rmse_xgb = mean_squared_error(y_test, y_pred_xgb, squared=False)\n",
        "mae_xgb = mean_absolute_error(y_test, y_pred_xgb)\n",
        "r2_xgb = r2_score(y_test, y_pred_xgb)\n",
        "\n",
        "print(\"Gradient Boosting (XGBoost) Regression Results:\")\n",
        "print(f'Root Mean Squared Error (RMSE): {rmse_xgb:.2f}')\n",
        "print(f'Mean Absolute Error (MAE): {mae_xgb:.2f}')\n",
        "print(f'R-squared (R2) Score: {r2_xgb:.2f}')\n"
      ],
      "metadata": {
        "colab": {
          "base_uri": "https://localhost:8080/"
        },
        "id": "9aOTA6gE5v7k",
        "outputId": "0ab6a30d-8f53-479e-af8b-8ff9b2fb8406"
      },
      "execution_count": 21,
      "outputs": [
        {
          "output_type": "stream",
          "name": "stdout",
          "text": [
            "Gradient Boosting (XGBoost) Regression Results:\n",
            "Root Mean Squared Error (RMSE): 0.20\n",
            "Mean Absolute Error (MAE): 0.08\n",
            "R-squared (R2) Score: 0.99\n"
          ]
        }
      ]
    },
    {
      "cell_type": "markdown",
      "source": [
        "Neural Network Regression (using TensorFlow/Keras)"
      ],
      "metadata": {
        "id": "muCKDCPq54ln"
      }
    },
    {
      "cell_type": "code",
      "source": [
        "import tensorflow as tf\n",
        "from tensorflow import keras\n",
        "from sklearn.preprocessing import StandardScaler\n",
        "\n",
        "# Standardize the input features\n",
        "scaler = StandardScaler()\n",
        "X_train_scaled = scaler.fit_transform(X_train)\n",
        "X_test_scaled = scaler.transform(X_test)\n",
        "\n",
        "# Initialize and train a simple Neural Network model\n",
        "nn_model = keras.Sequential([\n",
        "    keras.layers.Dense(64, activation='relu', input_shape=(X_train_scaled.shape[1],)),\n",
        "    keras.layers.Dense(32, activation='relu'),\n",
        "    keras.layers.Dense(1)  # Output layer\n",
        "])\n",
        "\n",
        "# Compile the model\n",
        "nn_model.compile(optimizer='adam', loss='mean_squared_error')\n",
        "\n",
        "# Train the model\n",
        "nn_model.fit(X_train_scaled, y_train, epochs=50, batch_size=32, validation_split=0.2)\n",
        "\n",
        "# Make predictions on test set\n",
        "y_pred_nn = nn_model.predict(X_test_scaled)\n",
        "\n",
        "# Evaluate Neural Network model\n",
        "rmse_nn = mean_squared_error(y_test, y_pred_nn, squared=False)\n",
        "mae_nn = mean_absolute_error(y_test, y_pred_nn)\n",
        "r2_nn = r2_score(y_test, y_pred_nn)\n",
        "\n",
        "print(\"Neural Network Regression Results:\")\n",
        "print(f'Root Mean Squared Error (RMSE): {rmse_nn:.2f}')\n",
        "print(f'Mean Absolute Error (MAE): {mae_nn:.2f}')\n",
        "print(f'R-squared (R2) Score: {r2_nn:.2f}')"
      ],
      "metadata": {
        "colab": {
          "base_uri": "https://localhost:8080/"
        },
        "id": "LTiMrOMs55P8",
        "outputId": "c2db2d22-d6c9-4aa3-e921-5fe36718b7b7"
      },
      "execution_count": 22,
      "outputs": [
        {
          "output_type": "stream",
          "name": "stdout",
          "text": [
            "Epoch 1/50\n",
            "3/3 [==============================] - 1s 108ms/step - loss: 13.4190 - val_loss: 12.1380\n",
            "Epoch 2/50\n",
            "3/3 [==============================] - 0s 19ms/step - loss: 12.5248 - val_loss: 11.2900\n",
            "Epoch 3/50\n",
            "3/3 [==============================] - 0s 18ms/step - loss: 11.6772 - val_loss: 10.4904\n",
            "Epoch 4/50\n",
            "3/3 [==============================] - 0s 25ms/step - loss: 10.8741 - val_loss: 9.7147\n",
            "Epoch 5/50\n",
            "3/3 [==============================] - 0s 17ms/step - loss: 10.0525 - val_loss: 8.9729\n",
            "Epoch 6/50\n",
            "3/3 [==============================] - 0s 17ms/step - loss: 9.2629 - val_loss: 8.2627\n",
            "Epoch 7/50\n",
            "3/3 [==============================] - 0s 17ms/step - loss: 8.5336 - val_loss: 7.5782\n",
            "Epoch 8/50\n",
            "3/3 [==============================] - 0s 18ms/step - loss: 7.8422 - val_loss: 6.8970\n",
            "Epoch 9/50\n",
            "3/3 [==============================] - 0s 17ms/step - loss: 7.1260 - val_loss: 6.2191\n",
            "Epoch 10/50\n",
            "3/3 [==============================] - 0s 18ms/step - loss: 6.4232 - val_loss: 5.5478\n",
            "Epoch 11/50\n",
            "3/3 [==============================] - 0s 16ms/step - loss: 5.7176 - val_loss: 4.8862\n",
            "Epoch 12/50\n",
            "3/3 [==============================] - 0s 16ms/step - loss: 5.0094 - val_loss: 4.2402\n",
            "Epoch 13/50\n",
            "3/3 [==============================] - 0s 16ms/step - loss: 4.2826 - val_loss: 3.6179\n",
            "Epoch 14/50\n",
            "3/3 [==============================] - 0s 27ms/step - loss: 3.6166 - val_loss: 3.0229\n",
            "Epoch 15/50\n",
            "3/3 [==============================] - 0s 19ms/step - loss: 2.9921 - val_loss: 2.4660\n",
            "Epoch 16/50\n",
            "3/3 [==============================] - 0s 17ms/step - loss: 2.3964 - val_loss: 1.9668\n",
            "Epoch 17/50\n",
            "3/3 [==============================] - 0s 16ms/step - loss: 1.8734 - val_loss: 1.5299\n",
            "Epoch 18/50\n",
            "3/3 [==============================] - 0s 17ms/step - loss: 1.4019 - val_loss: 1.1782\n",
            "Epoch 19/50\n",
            "3/3 [==============================] - 0s 25ms/step - loss: 1.0420 - val_loss: 0.9080\n",
            "Epoch 20/50\n",
            "3/3 [==============================] - 0s 18ms/step - loss: 0.7404 - val_loss: 0.7261\n",
            "Epoch 21/50\n",
            "3/3 [==============================] - 0s 16ms/step - loss: 0.5381 - val_loss: 0.6187\n",
            "Epoch 22/50\n",
            "3/3 [==============================] - 0s 18ms/step - loss: 0.4111 - val_loss: 0.5713\n",
            "Epoch 23/50\n",
            "3/3 [==============================] - 0s 17ms/step - loss: 0.3601 - val_loss: 0.5627\n",
            "Epoch 24/50\n",
            "3/3 [==============================] - 0s 18ms/step - loss: 0.3358 - val_loss: 0.5644\n",
            "Epoch 25/50\n",
            "3/3 [==============================] - 0s 16ms/step - loss: 0.3292 - val_loss: 0.5606\n",
            "Epoch 26/50\n",
            "3/3 [==============================] - 0s 17ms/step - loss: 0.3205 - val_loss: 0.5454\n",
            "Epoch 27/50\n",
            "3/3 [==============================] - 0s 23ms/step - loss: 0.3085 - val_loss: 0.5199\n",
            "Epoch 28/50\n",
            "3/3 [==============================] - 0s 17ms/step - loss: 0.2880 - val_loss: 0.4879\n",
            "Epoch 29/50\n",
            "3/3 [==============================] - 0s 17ms/step - loss: 0.2631 - val_loss: 0.4570\n",
            "Epoch 30/50\n",
            "3/3 [==============================] - 0s 17ms/step - loss: 0.2375 - val_loss: 0.4211\n",
            "Epoch 31/50\n",
            "3/3 [==============================] - 0s 20ms/step - loss: 0.2165 - val_loss: 0.3918\n",
            "Epoch 32/50\n",
            "3/3 [==============================] - 0s 32ms/step - loss: 0.1973 - val_loss: 0.3649\n",
            "Epoch 33/50\n",
            "3/3 [==============================] - 0s 20ms/step - loss: 0.1859 - val_loss: 0.3456\n",
            "Epoch 34/50\n",
            "3/3 [==============================] - 0s 23ms/step - loss: 0.1765 - val_loss: 0.3323\n",
            "Epoch 35/50\n",
            "3/3 [==============================] - 0s 22ms/step - loss: 0.1707 - val_loss: 0.3190\n",
            "Epoch 36/50\n",
            "3/3 [==============================] - 0s 30ms/step - loss: 0.1651 - val_loss: 0.3086\n",
            "Epoch 37/50\n",
            "3/3 [==============================] - 0s 21ms/step - loss: 0.1611 - val_loss: 0.2976\n",
            "Epoch 38/50\n",
            "3/3 [==============================] - 0s 37ms/step - loss: 0.1560 - val_loss: 0.2837\n",
            "Epoch 39/50\n",
            "3/3 [==============================] - 0s 23ms/step - loss: 0.1521 - val_loss: 0.2748\n",
            "Epoch 40/50\n",
            "3/3 [==============================] - 0s 22ms/step - loss: 0.1471 - val_loss: 0.2682\n",
            "Epoch 41/50\n",
            "3/3 [==============================] - 0s 28ms/step - loss: 0.1443 - val_loss: 0.2602\n",
            "Epoch 42/50\n",
            "3/3 [==============================] - 0s 21ms/step - loss: 0.1404 - val_loss: 0.2527\n",
            "Epoch 43/50\n",
            "3/3 [==============================] - 0s 21ms/step - loss: 0.1371 - val_loss: 0.2465\n",
            "Epoch 44/50\n",
            "3/3 [==============================] - 0s 31ms/step - loss: 0.1338 - val_loss: 0.2429\n",
            "Epoch 45/50\n",
            "3/3 [==============================] - 0s 24ms/step - loss: 0.1324 - val_loss: 0.2396\n",
            "Epoch 46/50\n",
            "3/3 [==============================] - 0s 30ms/step - loss: 0.1297 - val_loss: 0.2355\n",
            "Epoch 47/50\n",
            "3/3 [==============================] - 0s 21ms/step - loss: 0.1272 - val_loss: 0.2327\n",
            "Epoch 48/50\n",
            "3/3 [==============================] - 0s 21ms/step - loss: 0.1262 - val_loss: 0.2277\n",
            "Epoch 49/50\n",
            "3/3 [==============================] - 0s 20ms/step - loss: 0.1242 - val_loss: 0.2220\n",
            "Epoch 50/50\n",
            "3/3 [==============================] - 0s 22ms/step - loss: 0.1220 - val_loss: 0.2194\n",
            "2/2 [==============================] - 0s 6ms/step\n",
            "Neural Network Regression Results:\n",
            "Root Mean Squared Error (RMSE): 0.58\n",
            "Mean Absolute Error (MAE): 0.35\n",
            "R-squared (R2) Score: 0.91\n"
          ]
        }
      ]
    },
    {
      "cell_type": "markdown",
      "source": [
        "RMSE comparison of diiferent models"
      ],
      "metadata": {
        "id": "6WVgZNGS8m7i"
      }
    },
    {
      "cell_type": "code",
      "source": [
        "import matplotlib.pyplot as plt\n",
        "\n",
        "# Create a bar chart to compare RMSE for different models\n",
        "models = ['Linear Regression', 'Random Forest', 'XGBoost', 'Neural Network']\n",
        "rmse_scores = [rmse, rmse_rf, rmse_xgb, rmse_nn]\n",
        "\n",
        "plt.figure(figsize=(10, 6))\n",
        "plt.bar(models, rmse_scores, color=['blue', 'green', 'orange', 'red'])\n",
        "plt.xlabel('Models')\n",
        "plt.ylabel('RMSE')\n",
        "plt.title('RMSE Comparison of Different Models')\n",
        "plt.ylim(0, max(rmse_scores) + 1)\n",
        "plt.xticks(rotation=15)\n",
        "plt.show()\n"
      ],
      "metadata": {
        "colab": {
          "base_uri": "https://localhost:8080/",
          "height": 596
        },
        "id": "_Jdfmwtf7Cf3",
        "outputId": "8029a1fc-b934-4b52-ba0e-bfc9e742ee61"
      },
      "execution_count": 23,
      "outputs": [
        {
          "output_type": "display_data",
          "data": {
            "text/plain": [
              "<Figure size 1000x600 with 1 Axes>"
            ],
            "image/png": "[encoded data removed]"
          },
          "metadata": {}
        }
      ]
    },
    {
      "cell_type": "markdown",
      "source": [
        "*Based on these results:*\n",
        "\n",
        "The Random Forest Regressor and XGBoost Regressor both have very low RMSE and MAE, indicating excellent predictive performance. They also have high R-squared scores.\n",
        "\n",
        "These ensemble methods, Random Forest and XGBoost, seem well-suited for your dataset.\n",
        "\n",
        "\n",
        "The Neural Network has the highest RMSE and MAE, indicating that it's performing slightly worse in terms of prediction accuracy compared to the ensemble models. However, an R-squared score of 0.92 is still reasonably good.\n",
        "The Linear Regression model performs well but not as well as the ensemble methods and the neural network"
      ],
      "metadata": {
        "id": "lYol3x1On1bf"
      }
    },
    {
      "cell_type": "markdown",
      "source": [
        "## Gradient Boosting Regression"
      ],
      "metadata": {
        "id": "y439YZkLs9IF"
      }
    },
    {
      "cell_type": "markdown",
      "source": [
        "70 - 30"
      ],
      "metadata": {
        "id": "CFeoO21uuZ9m"
      }
    },
    {
      "cell_type": "code",
      "source": [
        "import xgboost as xgb\n",
        "from sklearn.model_selection import train_test_split\n",
        "\n",
        "# Split data into training and testing sets (70-30 split)\n",
        "X = df.drop(columns=['Overall Rating'])  # Features\n",
        "y = df['Overall Rating']  # Target variable\n",
        "\n",
        "X_train, X_test, y_train, y_test = train_test_split(X, y, test_size=0.3, random_state=42)\n",
        "\n",
        "# Initialize and train XGBoost Regressor\n",
        "xgb_model = xgb.XGBRegressor(n_estimators=100, random_state=42)\n",
        "xgb_model.fit(X_train, y_train)\n",
        "\n",
        "# Make predictions on test set\n",
        "y_pred_xgb = xgb_model.predict(X_test)\n",
        "\n",
        "# Evaluate XGBoost model\n",
        "rmse_xgb = mean_squared_error(y_test, y_pred_xgb, squared=False)\n",
        "mae_xgb = mean_absolute_error(y_test, y_pred_xgb)\n",
        "r2_xgb = r2_score(y_test, y_pred_xgb)\n",
        "\n",
        "print(\"Gradient Boosting (XGBoost) Regression Results:\")\n",
        "print(f'Root Mean Squared Error (RMSE): {rmse_xgb:.2f}')\n",
        "print(f'Mean Absolute Error (MAE): {mae_xgb:.2f}')\n",
        "print(f'R-squared (R2) Score: {r2_xgb:.2f}')\n"
      ],
      "metadata": {
        "colab": {
          "base_uri": "https://localhost:8080/"
        },
        "id": "5slT6G8YtIZ4",
        "outputId": "595a36c9-7de6-4fa6-a430-a2ea7eb44177"
      },
      "execution_count": 33,
      "outputs": [
        {
          "output_type": "stream",
          "name": "stdout",
          "text": [
            "Gradient Boosting (XGBoost) Regression Results:\n",
            "Root Mean Squared Error (RMSE): 0.20\n",
            "Mean Absolute Error (MAE): 0.08\n",
            "R-squared (R2) Score: 0.99\n"
          ]
        }
      ]
    },
    {
      "cell_type": "markdown",
      "source": [
        "select features"
      ],
      "metadata": {
        "id": "KuDgY0ogvPiK"
      }
    },
    {
      "cell_type": "code",
      "source": [
        "import xgboost as xgb\n",
        "from sklearn.model_selection import train_test_split\n",
        "\n",
        "X = df.drop(columns=['Overall Rating','Car Brand','Car Model','Price Range'])  # Features\n",
        "y = df['Overall Rating']  # Target variable\n",
        "\n",
        "# Split data into training and testing sets (70-30 split)\n",
        "X_train, X_test, y_train, y_test = train_test_split(X, y, test_size=0.3, random_state=42)\n",
        "\n",
        "# Initialize and train XGBoost Regressor\n",
        "xgb_model = xgb.XGBRegressor(n_estimators=100, random_state=42)\n",
        "xgb_model.fit(X_train, y_train)\n",
        "\n",
        "# Make predictions on test set\n",
        "y_pred_xgb = xgb_model.predict(X_test)\n",
        "\n",
        "# Evaluate XGBoost model\n",
        "rmse_xgb = mean_squared_error(y_test, y_pred_xgb, squared=False)\n",
        "mae_xgb = mean_absolute_error(y_test, y_pred_xgb)\n",
        "r2_xgb = r2_score(y_test, y_pred_xgb)\n",
        "\n",
        "print(\"Gradient Boosting (XGBoost) Regression Results:\")\n",
        "print(f'Root Mean Squared Error (RMSE): {rmse_xgb:.2f}')\n",
        "print(f'Mean Absolute Error (MAE): {mae_xgb:.2f}')\n",
        "print(f'R-squared (R2) Score: {r2_xgb:.2f}')"
      ],
      "metadata": {
        "colab": {
          "base_uri": "https://localhost:8080/"
        },
        "id": "KATZe1s0vPP7",
        "outputId": "d05d67b2-64a6-43a1-adb8-2f2c69084d36"
      },
      "execution_count": 34,
      "outputs": [
        {
          "output_type": "stream",
          "name": "stdout",
          "text": [
            "Gradient Boosting (XGBoost) Regression Results:\n",
            "Root Mean Squared Error (RMSE): 0.18\n",
            "Mean Absolute Error (MAE): 0.08\n",
            "R-squared (R2) Score: 0.99\n"
          ]
        }
      ]
    },
    {
      "cell_type": "markdown",
      "source": [
        "60 - 40"
      ],
      "metadata": {
        "id": "ntM_Y2Mfucv7"
      }
    },
    {
      "cell_type": "code",
      "source": [
        "import xgboost as xgb\n",
        "from sklearn.model_selection import train_test_split\n",
        "\n",
        "X = df.drop(columns=['Overall Rating'])  # Features\n",
        "y = df['Overall Rating']  # Target variable\n",
        "X_train, X_test, y_train, y_test = train_test_split(X, y, test_size=0.4, random_state=42)\n",
        "\n",
        "# Initialize and train XGBoost Regressor\n",
        "xgb_model = xgb.XGBRegressor(n_estimators=100, random_state=42)\n",
        "xgb_model.fit(X_train, y_train)\n",
        "\n",
        "# Make predictions on test set\n",
        "y_pred_xgb = xgb_model.predict(X_test)\n",
        "\n",
        "# Evaluate XGBoost model\n",
        "rmse_xgb = mean_squared_error(y_test, y_pred_xgb, squared=False)\n",
        "mae_xgb = mean_absolute_error(y_test, y_pred_xgb)\n",
        "r2_xgb = r2_score(y_test, y_pred_xgb)\n",
        "\n",
        "print(\"Gradient Boosting (XGBoost) Regression Results:\")\n",
        "print(f'Root Mean Squared Error (RMSE): {rmse_xgb:.2f}')\n",
        "print(f'Mean Absolute Error (MAE): {mae_xgb:.2f}')\n",
        "print(f'R-squared (R2) Score: {r2_xgb:.2f}')"
      ],
      "metadata": {
        "colab": {
          "base_uri": "https://localhost:8080/"
        },
        "id": "hExbpSNWugOL",
        "outputId": "40e272ed-94b7-4cac-b3f0-8cc19966af90"
      },
      "execution_count": 35,
      "outputs": [
        {
          "output_type": "stream",
          "name": "stdout",
          "text": [
            "Gradient Boosting (XGBoost) Regression Results:\n",
            "Root Mean Squared Error (RMSE): 0.27\n",
            "Mean Absolute Error (MAE): 0.11\n",
            "R-squared (R2) Score: 0.98\n"
          ]
        }
      ]
    },
    {
      "cell_type": "markdown",
      "source": [
        "select features"
      ],
      "metadata": {
        "id": "BC42AsFpuki7"
      }
    },
    {
      "cell_type": "code",
      "source": [
        "import xgboost as xgb\n",
        "from sklearn.model_selection import train_test_split\n",
        "\n",
        "X = df.drop(columns=['Overall Rating','Car Brand','Car Model','Price Range'])  # Features\n",
        "y = df['Overall Rating']  # Target variable\n",
        "X_train, X_test, y_train, y_test = train_test_split(X, y, test_size=0.4, random_state=42)\n",
        "\n",
        "# Initialize and train XGBoost Regressor\n",
        "xgb_model = xgb.XGBRegressor(n_estimators=100, random_state=42)\n",
        "xgb_model.fit(X_train, y_train)\n",
        "\n",
        "# Make predictions on test set\n",
        "y_pred_xgb = xgb_model.predict(X_test)\n",
        "\n",
        "# Evaluate XGBoost model\n",
        "rmse_xgb = mean_squared_error(y_test, y_pred_xgb, squared=False)\n",
        "mae_xgb = mean_absolute_error(y_test, y_pred_xgb)\n",
        "r2_xgb = r2_score(y_test, y_pred_xgb)\n",
        "\n",
        "print(\"Gradient Boosting (XGBoost) Regression Results:\")\n",
        "print(f'Root Mean Squared Error (RMSE): {rmse_xgb:.2f}')\n",
        "print(f'Mean Absolute Error (MAE): {mae_xgb:.2f}')\n",
        "print(f'R-squared (R2) Score: {r2_xgb:.2f}')"
      ],
      "metadata": {
        "colab": {
          "base_uri": "https://localhost:8080/"
        },
        "id": "qn4tBR33uosL",
        "outputId": "ff7b7f98-006a-4ed4-8c97-e543507a8b34"
      },
      "execution_count": 36,
      "outputs": [
        {
          "output_type": "stream",
          "name": "stdout",
          "text": [
            "Gradient Boosting (XGBoost) Regression Results:\n",
            "Root Mean Squared Error (RMSE): 0.28\n",
            "Mean Absolute Error (MAE): 0.11\n",
            "R-squared (R2) Score: 0.98\n"
          ]
        }
      ]
    },
    {
      "cell_type": "code",
      "source": [
        "import matplotlib.pyplot as plt\n",
        "import numpy as np\n",
        "\n",
        "# Create a scatterplot of predicted vs. actual ratings\n",
        "plt.figure(figsize=(6, 4))\n",
        "plt.scatter(y_test, y_pred_xgb, alpha=0.5)\n",
        "plt.xlabel('Actual Ratings')\n",
        "plt.ylabel('Predicted Ratings')\n",
        "plt.title('Actual vs. Predicted Ratings (XGBoost Model)')\n",
        "\n",
        "# Calculate and plot the trend line\n",
        "z = np.polyfit(y_test, y_pred_xgb, 1)\n",
        "p = np.poly1d(z)\n",
        "plt.plot(y_test, p(y_test), color='red')\n",
        "\n",
        "plt.grid(True)\n",
        "plt.show()"
      ],
      "metadata": {
        "colab": {
          "base_uri": "https://localhost:8080/",
          "height": 410
        },
        "id": "2DdwmwfQv8cE",
        "outputId": "19d8dfaf-0c4e-4281-9c9b-9427c88d61ba"
      },
      "execution_count": 37,
      "outputs": [
        {
          "output_type": "display_data",
          "data": {
            "text/plain": [
              "<Figure size 600x400 with 1 Axes>"
            ],
            "image/png": "[encoded data removed]"
          },
          "metadata": {}
        }
      ]
    },
    {
      "cell_type": "markdown",
      "source": [
        "## random forest"
      ],
      "metadata": {
        "id": "JLTjpoTkphcT"
      }
    },
    {
      "cell_type": "markdown",
      "source": [
        "using all features and 70-30 split"
      ],
      "metadata": {
        "id": "i3yQVf4Gqsys"
      }
    },
    {
      "cell_type": "code",
      "source": [
        "from sklearn.ensemble import RandomForestRegressor\n",
        "\n",
        "# Split data into training and testing sets (70-30 split)\n",
        "X = df.drop(columns=['Overall Rating'])  # Features\n",
        "y = df['Overall Rating']  # Target variable\n",
        "X_train, X_test, y_train, y_test = train_test_split(X, y, test_size=0.3, random_state=42)\n",
        "\n",
        "# Initialize and train Random Forest Regressor\n",
        "rf_model = RandomForestRegressor(n_estimators=100, random_state=42)\n",
        "rf_model.fit(X_train, y_train)\n",
        "\n",
        "# Make predictions on test set\n",
        "y_pred_rf = rf_model.predict(X_test)\n",
        "\n",
        "# Evaluate Random Forest model\n",
        "rmse_rf = mean_squared_error(y_test, y_pred_rf, squared=False)\n",
        "mae_rf = mean_absolute_error(y_test, y_pred_rf)\n",
        "r2_rf = r2_score(y_test, y_pred_rf)\n",
        "\n",
        "print(\"Random Forest Regression Results:\")\n",
        "print(f'Root Mean Squared Error (RMSE): {rmse_rf:.2f}')\n",
        "print(f'Mean Absolute Error (MAE): {mae_rf:.2f}')\n",
        "print(f'R-squared (R2) Score: {r2_rf:.2f}')"
      ],
      "metadata": {
        "colab": {
          "base_uri": "https://localhost:8080/"
        },
        "id": "VvJFYDFvmLg1",
        "outputId": "42186f07-8b80-4a75-90be-d33391e0efb1"
      },
      "execution_count": 38,
      "outputs": [
        {
          "output_type": "stream",
          "name": "stdout",
          "text": [
            "Random Forest Regression Results:\n",
            "Root Mean Squared Error (RMSE): 0.18\n",
            "Mean Absolute Error (MAE): 0.11\n",
            "R-squared (R2) Score: 0.99\n"
          ]
        }
      ]
    },
    {
      "cell_type": "markdown",
      "source": [
        "Feature Selection: Reducing the number of features or selecting the most informative features can help prevent overfitting, especially in high-dimensional datasets."
      ],
      "metadata": {
        "id": "G2kbtnikq5DO"
      }
    },
    {
      "cell_type": "markdown",
      "source": [
        "selected feature (drop'Overall Rating','Car Brand','Car Model','Price Range') and 70 - 30"
      ],
      "metadata": {
        "id": "GmjRousNr-m3"
      }
    },
    {
      "cell_type": "code",
      "source": [
        "from sklearn.model_selection import train_test_split\n",
        "from sklearn.ensemble import RandomForestRegressor\n",
        "from sklearn.metrics import mean_squared_error, mean_absolute_error, r2_score\n",
        "\n",
        "# Split data into training and testing sets (70-30 split)\n",
        "X = df.drop(columns=['Overall Rating','Car Brand','Car Model','Price Range'])  # Features\n",
        "y = df['Overall Rating']  # Target variable\n",
        "X_train, X_test, y_train, y_test = train_test_split(X, y, test_size=0.3, random_state=42)\n",
        "\n",
        "# Initialize and train Random Forest Regressor\n",
        "rf_model = RandomForestRegressor(n_estimators=100, random_state=42)\n",
        "rf_model.fit(X_train, y_train)\n",
        "\n",
        "# Make predictions on test set\n",
        "y_pred_rf = rf_model.predict(X_test)\n",
        "\n",
        "# Evaluate Random Forest model\n",
        "rmse_rf = mean_squared_error(y_test, y_pred_rf, squared=False)\n",
        "mae_rf = mean_absolute_error(y_test, y_pred_rf)\n",
        "r2_rf = r2_score(y_test, y_pred_rf)\n",
        "\n",
        "print(\"Random Forest Regression Results:\")\n",
        "print(f'Root Mean Squared Error (RMSE): {rmse_rf:.2f}')\n",
        "print(f'Mean Absolute Error (MAE): {mae_rf:.2f}')\n",
        "print(f'R-squared (R2) Score: {r2_rf:.2f}')\n"
      ],
      "metadata": {
        "colab": {
          "base_uri": "https://localhost:8080/"
        },
        "id": "EARSHRWopPmp",
        "outputId": "d1ef87d7-51be-4407-9ee4-2300b30fc033"
      },
      "execution_count": 39,
      "outputs": [
        {
          "output_type": "stream",
          "name": "stdout",
          "text": [
            "Random Forest Regression Results:\n",
            "Root Mean Squared Error (RMSE): 0.16\n",
            "Mean Absolute Error (MAE): 0.10\n",
            "R-squared (R2) Score: 0.99\n"
          ]
        }
      ]
    },
    {
      "cell_type": "markdown",
      "source": [
        "selected feature (drop'Overall Rating','Car Brand','Car Model','Price Range') 60 - 40"
      ],
      "metadata": {
        "id": "-D4BagPVsAcM"
      }
    },
    {
      "cell_type": "code",
      "source": [
        "from sklearn.model_selection import train_test_split\n",
        "from sklearn.ensemble import RandomForestRegressor\n",
        "from sklearn.metrics import mean_squared_error, mean_absolute_error, r2_score\n",
        "\n",
        "# Split data into training and testing sets (70-30 split)\n",
        "X = df.drop(columns=['Overall Rating','Car Brand','Car Model','Price Range'])  # Features\n",
        "y = df['Overall Rating']  # Target variable\n",
        "X_train, X_test, y_train, y_test = train_test_split(X, y, test_size=0.4, random_state=42)\n",
        "\n",
        "# Initialize and train Random Forest Regressor\n",
        "rf_model = RandomForestRegressor(n_estimators=100, random_state=42)\n",
        "rf_model.fit(X_train, y_train)\n",
        "\n",
        "# Make predictions on test set\n",
        "y_pred_rf = rf_model.predict(X_test)\n",
        "\n",
        "# Evaluate Random Forest model\n",
        "rmse_rf = mean_squared_error(y_test, y_pred_rf, squared=False)\n",
        "mae_rf = mean_absolute_error(y_test, y_pred_rf)\n",
        "r2_rf = r2_score(y_test, y_pred_rf)\n",
        "\n",
        "print(\"Random Forest Regression Results:\")\n",
        "print(f'Root Mean Squared Error (RMSE): {rmse_rf:.2f}')\n",
        "print(f'Mean Absolute Error (MAE): {mae_rf:.2f}')\n",
        "print(f'R-squared (R2) Score: {r2_rf:.2f}')"
      ],
      "metadata": {
        "colab": {
          "base_uri": "https://localhost:8080/"
        },
        "id": "iuLs4CxDsChU",
        "outputId": "26f0049c-87ff-4c58-b78b-531ede6084c6"
      },
      "execution_count": 40,
      "outputs": [
        {
          "output_type": "stream",
          "name": "stdout",
          "text": [
            "Random Forest Regression Results:\n",
            "Root Mean Squared Error (RMSE): 0.20\n",
            "Mean Absolute Error (MAE): 0.11\n",
            "R-squared (R2) Score: 0.99\n"
          ]
        }
      ]
    },
    {
      "cell_type": "markdown",
      "source": [
        "visualization"
      ],
      "metadata": {
        "id": "mGwb44sIpYN6"
      }
    },
    {
      "cell_type": "code",
      "source": [
        "import matplotlib.pyplot as plt\n",
        "\n",
        "# Create a scatter plot of actual vs. predicted ratings\n",
        "plt.figure(figsize=(6, 4))\n",
        "plt.scatter(y_test, y_pred_rf, alpha=0.5)\n",
        "plt.title('Actual vs. Predicted Ratings (Random Forest)')\n",
        "plt.xlabel('Actual Ratings')\n",
        "plt.ylabel('Predicted Ratings')\n",
        "plt.grid(True)\n",
        "\n",
        "# Add a diagonal line for reference (perfect predictions)\n",
        "plt.plot([min(y_test), max(y_test)], [min(y_test), max(y_test)], linestyle='--', color='red', linewidth=2)\n",
        "\n",
        "plt.show()"
      ],
      "metadata": {
        "colab": {
          "base_uri": "https://localhost:8080/",
          "height": 410
        },
        "id": "bVXJsNBvsZqP",
        "outputId": "eccf989e-b912-4e5d-8ff6-8c2f0bc7c457"
      },
      "execution_count": 41,
      "outputs": [
        {
          "output_type": "display_data",
          "data": {
            "text/plain": [
              "<Figure size 600x400 with 1 Axes>"
            ],
            "image/png": "[encoded data removed]"
          },
          "metadata": {}
        }
      ]
    },
    {
      "cell_type": "markdown",
      "source": [
        "Random Forest regression vs linear regression"
      ],
      "metadata": {
        "id": "YGNOo9EqhaTy"
      }
    },
    {
      "cell_type": "markdown",
      "source": [
        "![Unknown-6.png](data:image/png;base64,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)"
      ],
      "metadata": {
        "id": "2vZoXaw6hSjN"
      }
    },
    {
      "cell_type": "markdown",
      "source": [
        "In this project, we aimed to predict and understand customer needs and preferences in the automotive industry by forecasting overall customer ratings for car models based on various features and attributes. We initially used Linear Regression to build a predictive model and then compared its performance with Random Forest Regression. Here's a summary of how these models performed in comparison to the actual ratings:\n",
        "\n",
        "**Linear Regression Results:**\n",
        "*   Root Mean Squared Error (RMSE): 0.32\n",
        "*   Mean Absolute Error (MAE): 0.19\n",
        "*   R-squared (R2) Score: 0.98\n",
        "\n",
        "**Random Forest Regression Results:**\n",
        "*   Root Mean Squared Error (RMSE): 0.20\n",
        "*   Mean Absolute Error (MAE): 0.11\n",
        "*   R-squared (R2) Score: 0.99\n",
        "\n",
        "**Actual Ratings vs. Predicted Ratings Comparison:**\n",
        "\n",
        "**Linear Regression:**\n",
        "\n",
        " The Linear Regression model showed strong performance with a high R-squared score of 0.98, indicating that it captured most of the variance in the data. However, it had a higher RMSE and MAE compared to the Random Forest model, which means it had slightly larger prediction errors.\n",
        "\n",
        "\n",
        "**Random Forest Regression:**\n",
        "\n",
        "The Random Forest Regression model outperformed the Linear Regression model with a lower RMSE and MAE, indicating better prediction accuracy. Its R-squared score of 0.99 suggests that it explains a significant portion of the variance in the data. The Random Forest model closely aligned with actual ratings, making it the preferred choice for this dataset.\n",
        "\n",
        "\n",
        "**In summary**\n",
        "\n",
        " the Random Forest Regression model provided more accurate predictions of customer ratings compared to the Linear Regression model. It exhibited a higher R-squared score and lower RMSE and MAE, indicating superior performance in capturing the underlying patterns in the data."
      ],
      "metadata": {
        "id": "T4N-fhwR5UK0"
      }
    },
    {
      "cell_type": "markdown",
      "source": [
        "# the summary documentation and reporting:"
      ],
      "metadata": {
        "id": "ekq5i0XYeaQP"
      }
    },
    {
      "cell_type": "markdown",
      "source": [
        "The modeling process for predicting and understanding customer needs in the automotive industry involved several key steps, which are summarized below:\n",
        "\n",
        "**Data Preprocessing:**\n",
        "\n",
        "Dropped the \"Index\" column.\n",
        "Addressed missing values by assuming a value of N for missing ratings (Exterior, Interior, and Ride Quality) when the overall rating is N.\n",
        "Split the \"Car\" column into \"Car Brand\" and \"Car Model.\"\n",
        "Split the \"Price\" column into \"Lowest Price\" and \"Highest Price\" in Lakh units.\n",
        "Calculated \"Price Range\" as the price difference between \"Lowest Price\" and \"Highest Price\" in Lakh units.\n",
        "\n",
        "\n",
        "**Model Building:**\n",
        "\n",
        "Converted categorical features \"Car Brand\" and \"Car Model\" into numerical values with label encoding.\n",
        "Selected the following features for the model: Exterior, Interior, Ride Quality, Car Brand, Car Model, Lowest Price, Highest Price, and Price Range.\n",
        "Split the data into training and testing sets using a 60-40 split ratio.\n",
        "Trained a Linear Regression model using the training data and evaluated its performance.\n",
        "\n",
        "**Model Comparison:**\n",
        "\n",
        "Compared the Linear Regression model with Random Forest Regression, XGBoost Regression, and Neural Network models in terms of RMSE, MAE, and R-squared scores.\n",
        "Identified Random Forest Regression as the most suitable model due to its low RMSE, low MAE, and high R-squared score.\n",
        "Random Forest Regression Results:\n",
        "\n",
        "RMSE: 0.20\n",
        "MAE: 0.11\n",
        "R-squared (R2) Score: 0.99\n",
        "\n",
        "**Conclusion:**\n",
        "\n",
        "The Random Forest Regression model outperformed other models in terms of prediction accuracy, making it the preferred choice for this dataset.\n",
        "The ability to accurately predict customer ratings and identify influential factors in customer satisfaction holds substantial value for car manufacturers and customers alike.\n",
        "The findings from this analysis can inform product development and purchasing decisions in the automotive industry.\n",
        "This documentation and reporting summarize the entire modeling process, providing insights into data preprocessing, feature engineering, model selection, and evaluation metrics, ultimately leading to the selection of the Random Forest Regression model for predicting customer ratings in the automotive industry."
      ],
      "metadata": {
        "id": "rvZEpxRM6Kty"
      }
    },
    {
      "cell_type": "markdown",
      "source": [
        "**References:**\n",
        "\n",
        "Dataset: \"AutoEval: Car Rating and Review Dataset\"\n",
        "\n",
        "link: https://www.kaggle.com/datasets/juhibhojani/car-rating"
      ],
      "metadata": {
        "id": "jN9KXVSZpKaY"
      }
    }
  ]
}